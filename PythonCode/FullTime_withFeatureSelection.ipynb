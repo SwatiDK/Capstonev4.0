{
 "cells": [
  {
   "cell_type": "markdown",
   "metadata": {},
   "source": [
    "# import statements"
   ]
  },
  {
   "cell_type": "code",
   "execution_count": 21,
   "metadata": {},
   "outputs": [],
   "source": [
    "import pandas as pd\n",
    "import sklearn\n",
    "import numpy as np\n",
    "from sklearn.model_selection import train_test_split\n",
    "\n",
    "from sklearn.model_selection import cross_val_score, RepeatedKFold\n",
    "import sklearn.metrics\n",
    "from sklearn.metrics import accuracy_score, r2_score,explained_variance_score\n",
    "from sklearn.metrics import mean_squared_error\n",
    "\n",
    "\n",
    "from sklearn.linear_model import LinearRegression,SGDRegressor\n",
    "from sklearn.tree import ExtraTreeRegressor \n",
    "from sklearn.neighbors import KNeighborsRegressor\n",
    "from sklearn.ensemble import AdaBoostRegressor\n",
    "from xgboost import XGBRFRegressor, XGBRegressor\n",
    "\n",
    "# Compare Algorithms\n",
    "import pandas\n",
    "import matplotlib.pyplot as plt\n",
    "import seaborn as sns\n",
    "from sklearn import model_selection\n",
    "from sklearn.linear_model import LogisticRegression\n",
    "from sklearn.tree import DecisionTreeClassifier\n",
    "from sklearn.neighbors import KNeighborsClassifier\n",
    "# from sklearn.discriminant_analysis import LinearDiscriminantAnalysis\n",
    "# from sklearn.naive_bayes import GaussianNB\n",
    "from sklearn.svm import SVC\n",
    "\n",
    "import matplotlib.pyplot as plt\n",
    "from sklearn.feature_selection import f_regression \n",
    "from sklearn.feature_selection import mutual_info_regression, SelectKBest, chi2\n",
    "from sklearn.model_selection import RandomizedSearchCV, GridSearchCV\n",
    "\n",
    "import statsmodels.api as sm\n",
    "import time\n",
    "import statistics\n",
    "# using pipeline\n",
    "from sklearn.pipeline import Pipeline\n",
    "\n",
    "from sklearn.feature_selection import mutual_info_regression\n",
    "from sklearn.feature_selection import SelectPercentile\n",
    "\n",
    "from statsmodels.stats.outliers_influence import variance_inflation_factor"
   ]
  },
  {
   "cell_type": "markdown",
   "metadata": {},
   "source": [
    "# load data and clean and split"
   ]
  },
  {
   "cell_type": "code",
   "execution_count": 2,
   "metadata": {},
   "outputs": [],
   "source": [
    "df = pd.read_csv('../Data/ProcessedCsvs/merged.csv')"
   ]
  },
  {
   "cell_type": "code",
   "execution_count": 3,
   "metadata": {},
   "outputs": [
    {
     "name": "stdout",
     "output_type": "stream",
     "text": [
      "2220\n"
     ]
    }
   ],
   "source": [
    "#df['Unnamed: 0'].head(30)\n",
    "# renaming the column \"A\"\n",
    "df.rename(columns = {\"'Unnamed: 0'\": \"RowId\"}, \n",
    "          inplace = True)\n",
    "\n",
    "#df.isnull().sum()\n",
    "null_columns=df.columns[df.isnull().any()]\n",
    "df[null_columns].isnull().sum()\n",
    "\n",
    "#print(df[df[\"5 to 14 hours\"].isnull()][null_columns])\n",
    "# drop all rows with any NaN and NaT values\n",
    "df_clean = df.dropna()\n",
    "print(len(df_clean))"
   ]
  },
  {
   "cell_type": "code",
   "execution_count": 4,
   "metadata": {
    "collapsed": true
   },
   "outputs": [
    {
     "data": {
      "text/plain": [
       "['Unnamed: 0',\n",
       " 'SA2',\n",
       " 'Employed, worked full-time',\n",
       " 'Employed, worked part-time',\n",
       " 'Employed, away from work',\n",
       " 'Unemployed, looking for full-time work',\n",
       " 'Unemployed, looking for part-time work',\n",
       " 'Not in the labour force',\n",
       " 'Not stated',\n",
       " 'Total',\n",
       " 'Nil distance',\n",
       " 'Over 0 km to less than 2.5 km',\n",
       " '2.5 km to less than 10 km',\n",
       " '10 km to less than 30 km',\n",
       " '30 km to less than 50 km',\n",
       " '50 km to less than 250 km',\n",
       " '250 km and over',\n",
       " 'Participant in the Community Development Programme',\n",
       " 'Not a participant in the Community Development Programme',\n",
       " 'Oceania and Antarctica',\n",
       " 'North-West Europe',\n",
       " 'Southern and Eastern Europe',\n",
       " 'North Africa and the Middle East',\n",
       " 'South-East Asia',\n",
       " 'North-East Asia',\n",
       " 'Southern and Central Asia',\n",
       " 'Americas',\n",
       " 'Sub-Saharan Africa',\n",
       " 'Supplementary codes',\n",
       " 'Did not provide child care',\n",
       " 'Cared for own child/children',\n",
       " 'Cared for other child/children',\n",
       " 'Cared for own child/children and other child/children',\n",
       " 'Has need for assistance with core activities',\n",
       " 'Does not have need for assistance with core activities',\n",
       " 'Postgraduate Degree Level',\n",
       " 'Graduate Diploma and Graduate Certificate Level',\n",
       " 'Bachelor Degree Level',\n",
       " 'Advanced Diploma and Diploma Level',\n",
       " 'Certificate III & IV Level',\n",
       " 'Secondary Education - Years 10 and above',\n",
       " 'Certificate I & II Level',\n",
       " 'Secondary Education - Years 9 and below',\n",
       " 'Supplementary Codes',\n",
       " 'Fully engaged',\n",
       " 'Partially engaged',\n",
       " 'At least partially engaged',\n",
       " 'Not Engaged',\n",
       " 'Agriculture, Forestry and Fishing',\n",
       " 'Mining',\n",
       " 'Manufacturing',\n",
       " 'Electricity, Gas, Water and Waste Services',\n",
       " 'Construction',\n",
       " 'Wholesale Trade',\n",
       " 'Retail Trade',\n",
       " 'Accommodation and Food Services',\n",
       " 'Transport, Postal and Warehousing',\n",
       " 'Information Media and Telecommunications',\n",
       " 'Financial and Insurance Services',\n",
       " 'Rental, Hiring and Real Estate Services',\n",
       " 'Professional, Scientific and Technical Services',\n",
       " 'Administrative and Support Services',\n",
       " 'Public Administration and Safety',\n",
       " 'Education and Training',\n",
       " 'Health Care and Social Assistance',\n",
       " 'Arts and Recreation Services',\n",
       " 'Other Services',\n",
       " 'Managers',\n",
       " 'Professionals',\n",
       " 'Technicians and Trades Workers',\n",
       " 'Community and Personal Service Workers',\n",
       " 'Clerical and Administrative Workers',\n",
       " 'Sales Workers',\n",
       " 'Machinery Operators and Drivers',\n",
       " 'Labourers',\n",
       " 'Negative income',\n",
       " 'Nil income',\n",
       " '$1-$149 ($1-$7,799)',\n",
       " '$150-$299 ($7,800-$15,599)',\n",
       " '$300-$399 ($15,600-$20,799)',\n",
       " '$400-$499 ($20,800-$25,999)',\n",
       " '$500-$649 ($26,000-$33,799)',\n",
       " '$650-$799 ($33,800-$41,599)',\n",
       " '$800-$999 ($41,600-$51,999)',\n",
       " '$1,000-$1,249 ($52,000-$64,999)',\n",
       " '$1,250-$1,499 ($65,000-$77,999)',\n",
       " '$1,500-$1,749 ($78,000-$90,999)',\n",
       " '$1,750-$1,999 ($91,000-$103,999)',\n",
       " '$2,000-$2,999 ($104,000-$155,999)',\n",
       " '$3,000 or more ($156,000 or more)',\n",
       " 'Very well',\n",
       " 'Well',\n",
       " 'Not well',\n",
       " 'Not at all',\n",
       " 'Never married',\n",
       " 'Widowed',\n",
       " 'Divorced',\n",
       " 'Separated',\n",
       " 'Married',\n",
       " 'National Government',\n",
       " 'State/Territory Government',\n",
       " 'Local Government',\n",
       " 'Private sector',\n",
       " 'Nil hours',\n",
       " 'Less than 5 hours',\n",
       " '5 to 14 hours',\n",
       " '15 to 29 hours',\n",
       " '30 hours or more',\n",
       " 'Not a volunteer',\n",
       " 'Volunteer']"
      ]
     },
     "execution_count": 4,
     "metadata": {},
     "output_type": "execute_result"
    }
   ],
   "source": [
    "df_clean.columns.to_list()"
   ]
  },
  {
   "cell_type": "code",
   "execution_count": 10,
   "metadata": {
    "collapsed": true
   },
   "outputs": [
    {
     "data": {
      "text/html": [
       "<div>\n",
       "<style scoped>\n",
       "    .dataframe tbody tr th:only-of-type {\n",
       "        vertical-align: middle;\n",
       "    }\n",
       "\n",
       "    .dataframe tbody tr th {\n",
       "        vertical-align: top;\n",
       "    }\n",
       "\n",
       "    .dataframe thead th {\n",
       "        text-align: right;\n",
       "    }\n",
       "</style>\n",
       "<table border=\"1\" class=\"dataframe\">\n",
       "  <thead>\n",
       "    <tr style=\"text-align: right;\">\n",
       "      <th></th>\n",
       "      <th>Nil distance</th>\n",
       "      <th>Over 0 km to less than 2.5 km</th>\n",
       "      <th>2.5 km to less than 10 km</th>\n",
       "      <th>10 km to less than 30 km</th>\n",
       "      <th>30 km to less than 50 km</th>\n",
       "      <th>50 km to less than 250 km</th>\n",
       "      <th>250 km and over</th>\n",
       "      <th>Participant in the Community Development Programme</th>\n",
       "      <th>Not a participant in the Community Development Programme</th>\n",
       "      <th>Oceania and Antarctica</th>\n",
       "      <th>...</th>\n",
       "      <th>State/Territory Government</th>\n",
       "      <th>Local Government</th>\n",
       "      <th>Private sector</th>\n",
       "      <th>Nil hours</th>\n",
       "      <th>Less than 5 hours</th>\n",
       "      <th>5 to 14 hours</th>\n",
       "      <th>15 to 29 hours</th>\n",
       "      <th>30 hours or more</th>\n",
       "      <th>Not a volunteer</th>\n",
       "      <th>Volunteer</th>\n",
       "    </tr>\n",
       "  </thead>\n",
       "  <tbody>\n",
       "    <tr>\n",
       "      <th>0</th>\n",
       "      <td>8.22</td>\n",
       "      <td>13.00</td>\n",
       "      <td>2.92</td>\n",
       "      <td>7.96</td>\n",
       "      <td>1.06</td>\n",
       "      <td>28.65</td>\n",
       "      <td>2.12</td>\n",
       "      <td>0.0</td>\n",
       "      <td>0.0</td>\n",
       "      <td>81.17</td>\n",
       "      <td>...</td>\n",
       "      <td>8.75</td>\n",
       "      <td>0.80</td>\n",
       "      <td>45.36</td>\n",
       "      <td>6.37</td>\n",
       "      <td>12.47</td>\n",
       "      <td>30.24</td>\n",
       "      <td>20.95</td>\n",
       "      <td>20.69</td>\n",
       "      <td>56.50</td>\n",
       "      <td>33.95</td>\n",
       "    </tr>\n",
       "    <tr>\n",
       "      <th>1</th>\n",
       "      <td>2.26</td>\n",
       "      <td>7.14</td>\n",
       "      <td>18.43</td>\n",
       "      <td>45.98</td>\n",
       "      <td>0.81</td>\n",
       "      <td>0.27</td>\n",
       "      <td>0.00</td>\n",
       "      <td>0.0</td>\n",
       "      <td>0.0</td>\n",
       "      <td>80.13</td>\n",
       "      <td>...</td>\n",
       "      <td>9.30</td>\n",
       "      <td>0.63</td>\n",
       "      <td>43.36</td>\n",
       "      <td>11.83</td>\n",
       "      <td>15.09</td>\n",
       "      <td>32.70</td>\n",
       "      <td>17.34</td>\n",
       "      <td>16.62</td>\n",
       "      <td>76.69</td>\n",
       "      <td>17.07</td>\n",
       "    </tr>\n",
       "    <tr>\n",
       "      <th>2</th>\n",
       "      <td>1.73</td>\n",
       "      <td>13.75</td>\n",
       "      <td>14.93</td>\n",
       "      <td>40.75</td>\n",
       "      <td>0.38</td>\n",
       "      <td>0.22</td>\n",
       "      <td>0.49</td>\n",
       "      <td>0.0</td>\n",
       "      <td>0.0</td>\n",
       "      <td>64.64</td>\n",
       "      <td>...</td>\n",
       "      <td>8.03</td>\n",
       "      <td>0.16</td>\n",
       "      <td>44.42</td>\n",
       "      <td>12.02</td>\n",
       "      <td>19.25</td>\n",
       "      <td>35.20</td>\n",
       "      <td>12.18</td>\n",
       "      <td>11.54</td>\n",
       "      <td>72.18</td>\n",
       "      <td>18.27</td>\n",
       "    </tr>\n",
       "    <tr>\n",
       "      <th>3</th>\n",
       "      <td>1.43</td>\n",
       "      <td>11.33</td>\n",
       "      <td>16.15</td>\n",
       "      <td>43.49</td>\n",
       "      <td>0.65</td>\n",
       "      <td>0.52</td>\n",
       "      <td>0.52</td>\n",
       "      <td>0.0</td>\n",
       "      <td>0.0</td>\n",
       "      <td>66.02</td>\n",
       "      <td>...</td>\n",
       "      <td>8.46</td>\n",
       "      <td>0.00</td>\n",
       "      <td>44.79</td>\n",
       "      <td>11.07</td>\n",
       "      <td>21.09</td>\n",
       "      <td>32.55</td>\n",
       "      <td>13.93</td>\n",
       "      <td>13.54</td>\n",
       "      <td>74.61</td>\n",
       "      <td>17.97</td>\n",
       "    </tr>\n",
       "    <tr>\n",
       "      <th>4</th>\n",
       "      <td>4.45</td>\n",
       "      <td>2.43</td>\n",
       "      <td>2.76</td>\n",
       "      <td>31.51</td>\n",
       "      <td>28.42</td>\n",
       "      <td>6.98</td>\n",
       "      <td>0.94</td>\n",
       "      <td>0.0</td>\n",
       "      <td>0.0</td>\n",
       "      <td>79.68</td>\n",
       "      <td>...</td>\n",
       "      <td>11.33</td>\n",
       "      <td>0.23</td>\n",
       "      <td>40.96</td>\n",
       "      <td>4.26</td>\n",
       "      <td>11.61</td>\n",
       "      <td>37.31</td>\n",
       "      <td>20.65</td>\n",
       "      <td>16.76</td>\n",
       "      <td>65.68</td>\n",
       "      <td>24.95</td>\n",
       "    </tr>\n",
       "    <tr>\n",
       "      <th>5</th>\n",
       "      <td>3.15</td>\n",
       "      <td>2.42</td>\n",
       "      <td>12.81</td>\n",
       "      <td>59.61</td>\n",
       "      <td>0.84</td>\n",
       "      <td>0.00</td>\n",
       "      <td>1.18</td>\n",
       "      <td>0.0</td>\n",
       "      <td>0.0</td>\n",
       "      <td>82.13</td>\n",
       "      <td>...</td>\n",
       "      <td>10.51</td>\n",
       "      <td>0.45</td>\n",
       "      <td>40.79</td>\n",
       "      <td>5.84</td>\n",
       "      <td>14.44</td>\n",
       "      <td>37.98</td>\n",
       "      <td>20.84</td>\n",
       "      <td>16.69</td>\n",
       "      <td>71.69</td>\n",
       "      <td>24.33</td>\n",
       "    </tr>\n",
       "    <tr>\n",
       "      <th>6</th>\n",
       "      <td>0.00</td>\n",
       "      <td>31.05</td>\n",
       "      <td>9.13</td>\n",
       "      <td>10.96</td>\n",
       "      <td>5.94</td>\n",
       "      <td>9.13</td>\n",
       "      <td>1.37</td>\n",
       "      <td>0.0</td>\n",
       "      <td>0.0</td>\n",
       "      <td>83.56</td>\n",
       "      <td>...</td>\n",
       "      <td>11.87</td>\n",
       "      <td>5.02</td>\n",
       "      <td>54.79</td>\n",
       "      <td>7.76</td>\n",
       "      <td>8.68</td>\n",
       "      <td>33.33</td>\n",
       "      <td>21.00</td>\n",
       "      <td>26.48</td>\n",
       "      <td>59.82</td>\n",
       "      <td>36.07</td>\n",
       "    </tr>\n",
       "    <tr>\n",
       "      <th>7</th>\n",
       "      <td>2.78</td>\n",
       "      <td>35.56</td>\n",
       "      <td>22.50</td>\n",
       "      <td>0.00</td>\n",
       "      <td>0.69</td>\n",
       "      <td>4.72</td>\n",
       "      <td>0.00</td>\n",
       "      <td>0.0</td>\n",
       "      <td>0.0</td>\n",
       "      <td>84.44</td>\n",
       "      <td>...</td>\n",
       "      <td>13.06</td>\n",
       "      <td>1.67</td>\n",
       "      <td>50.97</td>\n",
       "      <td>6.25</td>\n",
       "      <td>11.39</td>\n",
       "      <td>37.08</td>\n",
       "      <td>19.31</td>\n",
       "      <td>18.75</td>\n",
       "      <td>68.33</td>\n",
       "      <td>24.17</td>\n",
       "    </tr>\n",
       "    <tr>\n",
       "      <th>8</th>\n",
       "      <td>7.99</td>\n",
       "      <td>1.74</td>\n",
       "      <td>11.81</td>\n",
       "      <td>18.40</td>\n",
       "      <td>11.11</td>\n",
       "      <td>20.49</td>\n",
       "      <td>2.08</td>\n",
       "      <td>0.0</td>\n",
       "      <td>0.0</td>\n",
       "      <td>81.60</td>\n",
       "      <td>...</td>\n",
       "      <td>9.03</td>\n",
       "      <td>2.43</td>\n",
       "      <td>53.12</td>\n",
       "      <td>3.12</td>\n",
       "      <td>9.72</td>\n",
       "      <td>36.81</td>\n",
       "      <td>18.40</td>\n",
       "      <td>22.92</td>\n",
       "      <td>51.74</td>\n",
       "      <td>37.50</td>\n",
       "    </tr>\n",
       "    <tr>\n",
       "      <th>9</th>\n",
       "      <td>7.93</td>\n",
       "      <td>16.52</td>\n",
       "      <td>11.96</td>\n",
       "      <td>13.37</td>\n",
       "      <td>17.83</td>\n",
       "      <td>8.48</td>\n",
       "      <td>3.80</td>\n",
       "      <td>0.0</td>\n",
       "      <td>0.0</td>\n",
       "      <td>77.39</td>\n",
       "      <td>...</td>\n",
       "      <td>7.83</td>\n",
       "      <td>2.72</td>\n",
       "      <td>69.13</td>\n",
       "      <td>6.41</td>\n",
       "      <td>19.67</td>\n",
       "      <td>32.50</td>\n",
       "      <td>17.17</td>\n",
       "      <td>13.59</td>\n",
       "      <td>63.91</td>\n",
       "      <td>26.63</td>\n",
       "    </tr>\n",
       "  </tbody>\n",
       "</table>\n",
       "<p>10 rows × 100 columns</p>\n",
       "</div>"
      ],
      "text/plain": [
       "   Nil distance  Over 0 km to less than 2.5 km  2.5 km to less than 10 km  \\\n",
       "0          8.22                          13.00                       2.92   \n",
       "1          2.26                           7.14                      18.43   \n",
       "2          1.73                          13.75                      14.93   \n",
       "3          1.43                          11.33                      16.15   \n",
       "4          4.45                           2.43                       2.76   \n",
       "5          3.15                           2.42                      12.81   \n",
       "6          0.00                          31.05                       9.13   \n",
       "7          2.78                          35.56                      22.50   \n",
       "8          7.99                           1.74                      11.81   \n",
       "9          7.93                          16.52                      11.96   \n",
       "\n",
       "   10 km to less than 30 km  30 km to less than 50 km  \\\n",
       "0                      7.96                      1.06   \n",
       "1                     45.98                      0.81   \n",
       "2                     40.75                      0.38   \n",
       "3                     43.49                      0.65   \n",
       "4                     31.51                     28.42   \n",
       "5                     59.61                      0.84   \n",
       "6                     10.96                      5.94   \n",
       "7                      0.00                      0.69   \n",
       "8                     18.40                     11.11   \n",
       "9                     13.37                     17.83   \n",
       "\n",
       "   50 km to less than 250 km  250 km and over  \\\n",
       "0                      28.65             2.12   \n",
       "1                       0.27             0.00   \n",
       "2                       0.22             0.49   \n",
       "3                       0.52             0.52   \n",
       "4                       6.98             0.94   \n",
       "5                       0.00             1.18   \n",
       "6                       9.13             1.37   \n",
       "7                       4.72             0.00   \n",
       "8                      20.49             2.08   \n",
       "9                       8.48             3.80   \n",
       "\n",
       "   Participant in the Community Development Programme  \\\n",
       "0                                                0.0    \n",
       "1                                                0.0    \n",
       "2                                                0.0    \n",
       "3                                                0.0    \n",
       "4                                                0.0    \n",
       "5                                                0.0    \n",
       "6                                                0.0    \n",
       "7                                                0.0    \n",
       "8                                                0.0    \n",
       "9                                                0.0    \n",
       "\n",
       "   Not a participant in the Community Development Programme  \\\n",
       "0                                                0.0          \n",
       "1                                                0.0          \n",
       "2                                                0.0          \n",
       "3                                                0.0          \n",
       "4                                                0.0          \n",
       "5                                                0.0          \n",
       "6                                                0.0          \n",
       "7                                                0.0          \n",
       "8                                                0.0          \n",
       "9                                                0.0          \n",
       "\n",
       "   Oceania and Antarctica  ...  State/Territory Government  Local Government  \\\n",
       "0                   81.17  ...                        8.75              0.80   \n",
       "1                   80.13  ...                        9.30              0.63   \n",
       "2                   64.64  ...                        8.03              0.16   \n",
       "3                   66.02  ...                        8.46              0.00   \n",
       "4                   79.68  ...                       11.33              0.23   \n",
       "5                   82.13  ...                       10.51              0.45   \n",
       "6                   83.56  ...                       11.87              5.02   \n",
       "7                   84.44  ...                       13.06              1.67   \n",
       "8                   81.60  ...                        9.03              2.43   \n",
       "9                   77.39  ...                        7.83              2.72   \n",
       "\n",
       "   Private sector  Nil hours  Less than 5 hours  5 to 14 hours  \\\n",
       "0           45.36       6.37              12.47          30.24   \n",
       "1           43.36      11.83              15.09          32.70   \n",
       "2           44.42      12.02              19.25          35.20   \n",
       "3           44.79      11.07              21.09          32.55   \n",
       "4           40.96       4.26              11.61          37.31   \n",
       "5           40.79       5.84              14.44          37.98   \n",
       "6           54.79       7.76               8.68          33.33   \n",
       "7           50.97       6.25              11.39          37.08   \n",
       "8           53.12       3.12               9.72          36.81   \n",
       "9           69.13       6.41              19.67          32.50   \n",
       "\n",
       "   15 to 29 hours  30 hours or more  Not a volunteer  Volunteer  \n",
       "0           20.95             20.69            56.50      33.95  \n",
       "1           17.34             16.62            76.69      17.07  \n",
       "2           12.18             11.54            72.18      18.27  \n",
       "3           13.93             13.54            74.61      17.97  \n",
       "4           20.65             16.76            65.68      24.95  \n",
       "5           20.84             16.69            71.69      24.33  \n",
       "6           21.00             26.48            59.82      36.07  \n",
       "7           19.31             18.75            68.33      24.17  \n",
       "8           18.40             22.92            51.74      37.50  \n",
       "9           17.17             13.59            63.91      26.63  \n",
       "\n",
       "[10 rows x 100 columns]"
      ]
     },
     "execution_count": 10,
     "metadata": {},
     "output_type": "execute_result"
    }
   ],
   "source": [
    "#df_clean.iloc[:10, 10:]"
   ]
  },
  {
   "cell_type": "code",
   "execution_count": 11,
   "metadata": {},
   "outputs": [],
   "source": [
    "# define x and y\n",
    "\n",
    "y = df_clean['Unemployed, looking for full-time work'].values\n",
    "\n",
    "# df_clean = df_clean.drop(columns=['Unnamed: 0','SA2','Employed, worked full-time',\n",
    "#        'Employed, worked part-time', 'Employed, away from work',\n",
    "#        'Unemployed, looking for full-time work',\n",
    "#        'Unemployed, looking for part-time work', 'Not in the labour force',\n",
    "#        'Not stated', 'Total'], axis=1)\n",
    "\n",
    "#X_all = df_clean\n",
    "\n",
    "X_all = df_clean.iloc[:, 10:]"
   ]
  },
  {
   "cell_type": "code",
   "execution_count": 12,
   "metadata": {},
   "outputs": [
    {
     "data": {
      "text/plain": [
       "((1665, 100), (555, 100), (1665,), (555,))"
      ]
     },
     "execution_count": 12,
     "metadata": {},
     "output_type": "execute_result"
    }
   ],
   "source": [
    "\n",
    "Xall_train, Xall_test, y_train, y_test = train_test_split(X_all, y ,test_size = 0.25, random_state=42)\n",
    "\n",
    "Xall_train.shape, Xall_test.shape, y_train.shape, y_test.shape"
   ]
  },
  {
   "cell_type": "markdown",
   "metadata": {},
   "source": [
    "# run basic OLS model with all the features"
   ]
  },
  {
   "cell_type": "code",
   "execution_count": 29,
   "metadata": {
    "scrolled": true
   },
   "outputs": [
    {
     "data": {
      "text/html": [
       "<table class=\"simpletable\">\n",
       "<caption>OLS Regression Results</caption>\n",
       "<tr>\n",
       "  <th>Dep. Variable:</th>            <td>y</td>        <th>  R-squared:         </th> <td>   0.649</td>\n",
       "</tr>\n",
       "<tr>\n",
       "  <th>Model:</th>                   <td>OLS</td>       <th>  Adj. R-squared:    </th> <td>   0.632</td>\n",
       "</tr>\n",
       "<tr>\n",
       "  <th>Method:</th>             <td>Least Squares</td>  <th>  F-statistic:       </th> <td>   39.13</td>\n",
       "</tr>\n",
       "<tr>\n",
       "  <th>Date:</th>             <td>Thu, 05 Aug 2021</td> <th>  Prob (F-statistic):</th>  <td>  0.00</td> \n",
       "</tr>\n",
       "<tr>\n",
       "  <th>Time:</th>                 <td>21:36:52</td>     <th>  Log-Likelihood:    </th> <td> -2707.6</td>\n",
       "</tr>\n",
       "<tr>\n",
       "  <th>No. Observations:</th>      <td>  2220</td>      <th>  AIC:               </th> <td>   5617.</td>\n",
       "</tr>\n",
       "<tr>\n",
       "  <th>Df Residuals:</th>          <td>  2119</td>      <th>  BIC:               </th> <td>   6193.</td>\n",
       "</tr>\n",
       "<tr>\n",
       "  <th>Df Model:</th>              <td>   100</td>      <th>                     </th>     <td> </td>   \n",
       "</tr>\n",
       "<tr>\n",
       "  <th>Covariance Type:</th>      <td>nonrobust</td>    <th>                     </th>     <td> </td>   \n",
       "</tr>\n",
       "</table>\n",
       "<table class=\"simpletable\">\n",
       "<tr>\n",
       "                              <td></td>                                <th>coef</th>     <th>std err</th>      <th>t</th>      <th>P>|t|</th>  <th>[0.025</th>    <th>0.975]</th>  \n",
       "</tr>\n",
       "<tr>\n",
       "  <th>const</th>                                                    <td>    0.1175</td> <td>    0.588</td> <td>    0.200</td> <td> 0.842</td> <td>   -1.036</td> <td>    1.271</td>\n",
       "</tr>\n",
       "<tr>\n",
       "  <th>Nil distance</th>                                             <td>   -0.0369</td> <td>    0.012</td> <td>   -3.083</td> <td> 0.002</td> <td>   -0.060</td> <td>   -0.013</td>\n",
       "</tr>\n",
       "<tr>\n",
       "  <th>Over 0 km to less than 2.5 km</th>                            <td>   -0.0268</td> <td>    0.006</td> <td>   -4.589</td> <td> 0.000</td> <td>   -0.038</td> <td>   -0.015</td>\n",
       "</tr>\n",
       "<tr>\n",
       "  <th>2.5 km to less than 10 km</th>                                <td>   -0.0135</td> <td>    0.005</td> <td>   -2.462</td> <td> 0.014</td> <td>   -0.024</td> <td>   -0.003</td>\n",
       "</tr>\n",
       "<tr>\n",
       "  <th>10 km to less than 30 km</th>                                 <td>   -0.0133</td> <td>    0.005</td> <td>   -2.413</td> <td> 0.016</td> <td>   -0.024</td> <td>   -0.002</td>\n",
       "</tr>\n",
       "<tr>\n",
       "  <th>30 km to less than 50 km</th>                                 <td>   -0.0195</td> <td>    0.006</td> <td>   -3.060</td> <td> 0.002</td> <td>   -0.032</td> <td>   -0.007</td>\n",
       "</tr>\n",
       "<tr>\n",
       "  <th>50 km to less than 250 km</th>                                <td>   -0.0337</td> <td>    0.008</td> <td>   -4.445</td> <td> 0.000</td> <td>   -0.049</td> <td>   -0.019</td>\n",
       "</tr>\n",
       "<tr>\n",
       "  <th>250 km and over</th>                                          <td>   -0.0538</td> <td>    0.015</td> <td>   -3.477</td> <td> 0.001</td> <td>   -0.084</td> <td>   -0.023</td>\n",
       "</tr>\n",
       "<tr>\n",
       "  <th>Participant in the Community Development Programme</th>       <td>   -0.0117</td> <td>    0.045</td> <td>   -0.260</td> <td> 0.795</td> <td>   -0.100</td> <td>    0.076</td>\n",
       "</tr>\n",
       "<tr>\n",
       "  <th>Not a participant in the Community Development Programme</th> <td>    0.0757</td> <td>    0.021</td> <td>    3.523</td> <td> 0.000</td> <td>    0.034</td> <td>    0.118</td>\n",
       "</tr>\n",
       "<tr>\n",
       "  <th>Oceania and Antarctica</th>                                   <td>   -0.0075</td> <td>    0.005</td> <td>   -1.489</td> <td> 0.137</td> <td>   -0.017</td> <td>    0.002</td>\n",
       "</tr>\n",
       "<tr>\n",
       "  <th>North-West Europe</th>                                        <td>   -0.0047</td> <td>    0.010</td> <td>   -0.461</td> <td> 0.645</td> <td>   -0.025</td> <td>    0.015</td>\n",
       "</tr>\n",
       "<tr>\n",
       "  <th>Southern and Eastern Europe</th>                              <td>   -0.0195</td> <td>    0.023</td> <td>   -0.845</td> <td> 0.398</td> <td>   -0.065</td> <td>    0.026</td>\n",
       "</tr>\n",
       "<tr>\n",
       "  <th>North Africa and the Middle East</th>                         <td>   -0.0857</td> <td>    0.012</td> <td>   -6.900</td> <td> 0.000</td> <td>   -0.110</td> <td>   -0.061</td>\n",
       "</tr>\n",
       "<tr>\n",
       "  <th>South-East Asia</th>                                          <td>   -0.0193</td> <td>    0.009</td> <td>   -2.233</td> <td> 0.026</td> <td>   -0.036</td> <td>   -0.002</td>\n",
       "</tr>\n",
       "<tr>\n",
       "  <th>North-East Asia</th>                                          <td>    0.0047</td> <td>    0.008</td> <td>    0.555</td> <td> 0.579</td> <td>   -0.012</td> <td>    0.021</td>\n",
       "</tr>\n",
       "<tr>\n",
       "  <th>Southern and Central Asia</th>                                <td>    0.0103</td> <td>    0.008</td> <td>    1.226</td> <td> 0.220</td> <td>   -0.006</td> <td>    0.027</td>\n",
       "</tr>\n",
       "<tr>\n",
       "  <th>Americas</th>                                                 <td>   -0.0065</td> <td>    0.019</td> <td>   -0.351</td> <td> 0.726</td> <td>   -0.043</td> <td>    0.030</td>\n",
       "</tr>\n",
       "<tr>\n",
       "  <th>Sub-Saharan Africa</th>                                       <td>    0.0187</td> <td>    0.019</td> <td>    0.995</td> <td> 0.320</td> <td>   -0.018</td> <td>    0.056</td>\n",
       "</tr>\n",
       "<tr>\n",
       "  <th>Supplementary codes</th>                                      <td>    0.1226</td> <td>    0.189</td> <td>    0.648</td> <td> 0.517</td> <td>   -0.248</td> <td>    0.494</td>\n",
       "</tr>\n",
       "<tr>\n",
       "  <th>Did not provide child care</th>                               <td>    0.0325</td> <td>    0.007</td> <td>    4.847</td> <td> 0.000</td> <td>    0.019</td> <td>    0.046</td>\n",
       "</tr>\n",
       "<tr>\n",
       "  <th>Cared for own child/children</th>                             <td>    0.0129</td> <td>    0.008</td> <td>    1.669</td> <td> 0.095</td> <td>   -0.002</td> <td>    0.028</td>\n",
       "</tr>\n",
       "<tr>\n",
       "  <th>Cared for other child/children</th>                           <td>   -0.0025</td> <td>    0.019</td> <td>   -0.135</td> <td> 0.892</td> <td>   -0.039</td> <td>    0.034</td>\n",
       "</tr>\n",
       "<tr>\n",
       "  <th>Cared for own child/children and other child/children</th>    <td>    0.0107</td> <td>    0.023</td> <td>    0.467</td> <td> 0.640</td> <td>   -0.034</td> <td>    0.055</td>\n",
       "</tr>\n",
       "<tr>\n",
       "  <th>Has need for assistance with core activities</th>             <td>   -0.0903</td> <td>    0.025</td> <td>   -3.566</td> <td> 0.000</td> <td>   -0.140</td> <td>   -0.041</td>\n",
       "</tr>\n",
       "<tr>\n",
       "  <th>Does not have need for assistance with core activities</th>   <td>    0.0027</td> <td>    0.004</td> <td>    0.635</td> <td> 0.525</td> <td>   -0.006</td> <td>    0.011</td>\n",
       "</tr>\n",
       "<tr>\n",
       "  <th>Postgraduate Degree Level</th>                                <td>    0.0111</td> <td>    0.013</td> <td>    0.858</td> <td> 0.391</td> <td>   -0.014</td> <td>    0.036</td>\n",
       "</tr>\n",
       "<tr>\n",
       "  <th>Graduate Diploma and Graduate Certificate Level</th>          <td>    0.0085</td> <td>    0.022</td> <td>    0.393</td> <td> 0.694</td> <td>   -0.034</td> <td>    0.051</td>\n",
       "</tr>\n",
       "<tr>\n",
       "  <th>Bachelor Degree Level</th>                                    <td>    0.0194</td> <td>    0.010</td> <td>    1.954</td> <td> 0.051</td> <td>-7.17e-05</td> <td>    0.039</td>\n",
       "</tr>\n",
       "<tr>\n",
       "  <th>Advanced Diploma and Diploma Level</th>                       <td>   -0.0106</td> <td>    0.012</td> <td>   -0.918</td> <td> 0.359</td> <td>   -0.033</td> <td>    0.012</td>\n",
       "</tr>\n",
       "<tr>\n",
       "  <th>Certificate III & IV Level</th>                               <td>   -0.0075</td> <td>    0.009</td> <td>   -0.828</td> <td> 0.408</td> <td>   -0.025</td> <td>    0.010</td>\n",
       "</tr>\n",
       "<tr>\n",
       "  <th>Secondary Education - Years 10 and above</th>                 <td>    0.0208</td> <td>    0.008</td> <td>    2.542</td> <td> 0.011</td> <td>    0.005</td> <td>    0.037</td>\n",
       "</tr>\n",
       "<tr>\n",
       "  <th>Certificate I & II Level</th>                                 <td>   -0.2252</td> <td>    0.122</td> <td>   -1.852</td> <td> 0.064</td> <td>   -0.464</td> <td>    0.013</td>\n",
       "</tr>\n",
       "<tr>\n",
       "  <th>Secondary Education - Years 9 and below</th>                  <td>    0.1269</td> <td>    0.018</td> <td>    7.230</td> <td> 0.000</td> <td>    0.093</td> <td>    0.161</td>\n",
       "</tr>\n",
       "<tr>\n",
       "  <th>Supplementary Codes</th>                                      <td>    0.0134</td> <td>    0.023</td> <td>    0.582</td> <td> 0.561</td> <td>   -0.032</td> <td>    0.058</td>\n",
       "</tr>\n",
       "<tr>\n",
       "  <th>Fully engaged</th>                                            <td>    0.0137</td> <td>    0.007</td> <td>    1.903</td> <td> 0.057</td> <td>   -0.000</td> <td>    0.028</td>\n",
       "</tr>\n",
       "<tr>\n",
       "  <th>Partially engaged</th>                                        <td>   -0.0308</td> <td>    0.009</td> <td>   -3.406</td> <td> 0.001</td> <td>   -0.049</td> <td>   -0.013</td>\n",
       "</tr>\n",
       "<tr>\n",
       "  <th>At least partially engaged</th>                               <td>   -0.0378</td> <td>    0.017</td> <td>   -2.273</td> <td> 0.023</td> <td>   -0.070</td> <td>   -0.005</td>\n",
       "</tr>\n",
       "<tr>\n",
       "  <th>Not Engaged</th>                                              <td>    0.0683</td> <td>    0.010</td> <td>    7.157</td> <td> 0.000</td> <td>    0.050</td> <td>    0.087</td>\n",
       "</tr>\n",
       "<tr>\n",
       "  <th>Agriculture, Forestry and Fishing</th>                        <td>   -0.0382</td> <td>    0.015</td> <td>   -2.498</td> <td> 0.013</td> <td>   -0.068</td> <td>   -0.008</td>\n",
       "</tr>\n",
       "<tr>\n",
       "  <th>Mining</th>                                                   <td>   -0.0127</td> <td>    0.019</td> <td>   -0.651</td> <td> 0.515</td> <td>   -0.051</td> <td>    0.026</td>\n",
       "</tr>\n",
       "<tr>\n",
       "  <th>Manufacturing</th>                                            <td>   -0.0031</td> <td>    0.019</td> <td>   -0.166</td> <td> 0.868</td> <td>   -0.039</td> <td>    0.033</td>\n",
       "</tr>\n",
       "<tr>\n",
       "  <th>Electricity, Gas, Water and Waste Services</th>               <td>    0.0267</td> <td>    0.047</td> <td>    0.569</td> <td> 0.569</td> <td>   -0.065</td> <td>    0.119</td>\n",
       "</tr>\n",
       "<tr>\n",
       "  <th>Construction</th>                                             <td>   -0.0631</td> <td>    0.027</td> <td>   -2.352</td> <td> 0.019</td> <td>   -0.116</td> <td>   -0.010</td>\n",
       "</tr>\n",
       "<tr>\n",
       "  <th>Wholesale Trade</th>                                          <td>    0.0321</td> <td>    0.029</td> <td>    1.119</td> <td> 0.263</td> <td>   -0.024</td> <td>    0.088</td>\n",
       "</tr>\n",
       "<tr>\n",
       "  <th>Retail Trade</th>                                             <td>   -0.0657</td> <td>    0.017</td> <td>   -3.903</td> <td> 0.000</td> <td>   -0.099</td> <td>   -0.033</td>\n",
       "</tr>\n",
       "<tr>\n",
       "  <th>Accommodation and Food Services</th>                          <td>   -0.0206</td> <td>    0.015</td> <td>   -1.367</td> <td> 0.172</td> <td>   -0.050</td> <td>    0.009</td>\n",
       "</tr>\n",
       "<tr>\n",
       "  <th>Transport, Postal and Warehousing</th>                        <td>    0.0010</td> <td>    0.012</td> <td>    0.078</td> <td> 0.938</td> <td>   -0.023</td> <td>    0.025</td>\n",
       "</tr>\n",
       "<tr>\n",
       "  <th>Information Media and Telecommunications</th>                 <td>   -0.0466</td> <td>    0.035</td> <td>   -1.341</td> <td> 0.180</td> <td>   -0.115</td> <td>    0.022</td>\n",
       "</tr>\n",
       "<tr>\n",
       "  <th>Financial and Insurance Services</th>                         <td>   -0.0233</td> <td>    0.020</td> <td>   -1.160</td> <td> 0.246</td> <td>   -0.063</td> <td>    0.016</td>\n",
       "</tr>\n",
       "<tr>\n",
       "  <th>Rental, Hiring and Real Estate Services</th>                  <td>    0.0107</td> <td>    0.037</td> <td>    0.287</td> <td> 0.774</td> <td>   -0.063</td> <td>    0.084</td>\n",
       "</tr>\n",
       "<tr>\n",
       "  <th>Professional, Scientific and Technical Services</th>          <td>    0.0054</td> <td>    0.016</td> <td>    0.334</td> <td> 0.738</td> <td>   -0.026</td> <td>    0.037</td>\n",
       "</tr>\n",
       "<tr>\n",
       "  <th>Administrative and Support Services</th>                      <td>    0.0398</td> <td>    0.026</td> <td>    1.558</td> <td> 0.119</td> <td>   -0.010</td> <td>    0.090</td>\n",
       "</tr>\n",
       "<tr>\n",
       "  <th>Public Administration and Safety</th>                         <td>   -0.0056</td> <td>    0.013</td> <td>   -0.416</td> <td> 0.678</td> <td>   -0.032</td> <td>    0.021</td>\n",
       "</tr>\n",
       "<tr>\n",
       "  <th>Education and Training</th>                                   <td>   -0.0282</td> <td>    0.014</td> <td>   -1.967</td> <td> 0.049</td> <td>   -0.056</td> <td>-8.28e-05</td>\n",
       "</tr>\n",
       "<tr>\n",
       "  <th>Health Care and Social Assistance</th>                        <td>   -0.0095</td> <td>    0.012</td> <td>   -0.789</td> <td> 0.430</td> <td>   -0.033</td> <td>    0.014</td>\n",
       "</tr>\n",
       "<tr>\n",
       "  <th>Arts and Recreation Services</th>                             <td>   -0.0854</td> <td>    0.032</td> <td>   -2.671</td> <td> 0.008</td> <td>   -0.148</td> <td>   -0.023</td>\n",
       "</tr>\n",
       "<tr>\n",
       "  <th>Other Services</th>                                           <td>   -0.0527</td> <td>    0.028</td> <td>   -1.889</td> <td> 0.059</td> <td>   -0.107</td> <td>    0.002</td>\n",
       "</tr>\n",
       "<tr>\n",
       "  <th>Managers</th>                                                 <td>    0.0272</td> <td>    0.015</td> <td>    1.838</td> <td> 0.066</td> <td>   -0.002</td> <td>    0.056</td>\n",
       "</tr>\n",
       "<tr>\n",
       "  <th>Professionals</th>                                            <td>    0.0376</td> <td>    0.013</td> <td>    2.951</td> <td> 0.003</td> <td>    0.013</td> <td>    0.063</td>\n",
       "</tr>\n",
       "<tr>\n",
       "  <th>Technicians and Trades Workers</th>                           <td>    0.0261</td> <td>    0.024</td> <td>    1.104</td> <td> 0.270</td> <td>   -0.020</td> <td>    0.073</td>\n",
       "</tr>\n",
       "<tr>\n",
       "  <th>Community and Personal Service Workers</th>                   <td>    0.0467</td> <td>    0.014</td> <td>    3.295</td> <td> 0.001</td> <td>    0.019</td> <td>    0.075</td>\n",
       "</tr>\n",
       "<tr>\n",
       "  <th>Clerical and Administrative Workers</th>                      <td>    0.0297</td> <td>    0.011</td> <td>    2.607</td> <td> 0.009</td> <td>    0.007</td> <td>    0.052</td>\n",
       "</tr>\n",
       "<tr>\n",
       "  <th>Sales Workers</th>                                            <td>    0.0313</td> <td>    0.023</td> <td>    1.358</td> <td> 0.175</td> <td>   -0.014</td> <td>    0.076</td>\n",
       "</tr>\n",
       "<tr>\n",
       "  <th>Machinery Operators and Drivers</th>                          <td>    0.0237</td> <td>    0.035</td> <td>    0.681</td> <td> 0.496</td> <td>   -0.045</td> <td>    0.092</td>\n",
       "</tr>\n",
       "<tr>\n",
       "  <th>Labourers</th>                                                <td>    0.0390</td> <td>    0.017</td> <td>    2.279</td> <td> 0.023</td> <td>    0.005</td> <td>    0.072</td>\n",
       "</tr>\n",
       "<tr>\n",
       "  <th>Negative income</th>                                          <td>    0.0852</td> <td>    0.058</td> <td>    1.462</td> <td> 0.144</td> <td>   -0.029</td> <td>    0.200</td>\n",
       "</tr>\n",
       "<tr>\n",
       "  <th>Nil income</th>                                               <td>    0.0606</td> <td>    0.014</td> <td>    4.184</td> <td> 0.000</td> <td>    0.032</td> <td>    0.089</td>\n",
       "</tr>\n",
       "<tr>\n",
       "  <th>$1-$149 ($1-$7,799)</th>                                      <td>   -0.0703</td> <td>    0.014</td> <td>   -5.002</td> <td> 0.000</td> <td>   -0.098</td> <td>   -0.043</td>\n",
       "</tr>\n",
       "<tr>\n",
       "  <th>$150-$299 ($7,800-$15,599)</th>                               <td>    0.0885</td> <td>    0.012</td> <td>    7.587</td> <td> 0.000</td> <td>    0.066</td> <td>    0.111</td>\n",
       "</tr>\n",
       "<tr>\n",
       "  <th>$300-$399 ($15,600-$20,799)</th>                              <td>   -0.0443</td> <td>    0.018</td> <td>   -2.453</td> <td> 0.014</td> <td>   -0.080</td> <td>   -0.009</td>\n",
       "</tr>\n",
       "<tr>\n",
       "  <th>$400-$499 ($20,800-$25,999)</th>                              <td>   -0.0129</td> <td>    0.017</td> <td>   -0.767</td> <td> 0.443</td> <td>   -0.046</td> <td>    0.020</td>\n",
       "</tr>\n",
       "<tr>\n",
       "  <th>$500-$649 ($26,000-$33,799)</th>                              <td>    0.0420</td> <td>    0.014</td> <td>    3.095</td> <td> 0.002</td> <td>    0.015</td> <td>    0.069</td>\n",
       "</tr>\n",
       "<tr>\n",
       "  <th>$650-$799 ($33,800-$41,599)</th>                              <td>   -0.0039</td> <td>    0.015</td> <td>   -0.263</td> <td> 0.793</td> <td>   -0.033</td> <td>    0.025</td>\n",
       "</tr>\n",
       "<tr>\n",
       "  <th>$800-$999 ($41,600-$51,999)</th>                              <td>   -0.0010</td> <td>    0.015</td> <td>   -0.064</td> <td> 0.949</td> <td>   -0.031</td> <td>    0.029</td>\n",
       "</tr>\n",
       "<tr>\n",
       "  <th>$1,000-$1,249 ($52,000-$64,999)</th>                          <td>   -0.0331</td> <td>    0.015</td> <td>   -2.195</td> <td> 0.028</td> <td>   -0.063</td> <td>   -0.004</td>\n",
       "</tr>\n",
       "<tr>\n",
       "  <th>$1,250-$1,499 ($65,000-$77,999)</th>                          <td>    0.0110</td> <td>    0.017</td> <td>    0.636</td> <td> 0.525</td> <td>   -0.023</td> <td>    0.045</td>\n",
       "</tr>\n",
       "<tr>\n",
       "  <th>$1,500-$1,749 ($78,000-$90,999)</th>                          <td>    0.0031</td> <td>    0.016</td> <td>    0.197</td> <td> 0.844</td> <td>   -0.027</td> <td>    0.033</td>\n",
       "</tr>\n",
       "<tr>\n",
       "  <th>$1,750-$1,999 ($91,000-$103,999)</th>                         <td>   -0.0143</td> <td>    0.024</td> <td>   -0.604</td> <td> 0.546</td> <td>   -0.061</td> <td>    0.032</td>\n",
       "</tr>\n",
       "<tr>\n",
       "  <th>$2,000-$2,999 ($104,000-$155,999)</th>                        <td>   -0.0073</td> <td>    0.018</td> <td>   -0.395</td> <td> 0.693</td> <td>   -0.043</td> <td>    0.029</td>\n",
       "</tr>\n",
       "<tr>\n",
       "  <th>$3,000 or more ($156,000 or more)</th>                        <td>   -0.0536</td> <td>    0.020</td> <td>   -2.620</td> <td> 0.009</td> <td>   -0.094</td> <td>   -0.013</td>\n",
       "</tr>\n",
       "<tr>\n",
       "  <th>Very well</th>                                                <td>   -0.0083</td> <td>    0.006</td> <td>   -1.448</td> <td> 0.148</td> <td>   -0.019</td> <td>    0.003</td>\n",
       "</tr>\n",
       "<tr>\n",
       "  <th>Well</th>                                                     <td>   -0.0248</td> <td>    0.010</td> <td>   -2.417</td> <td> 0.016</td> <td>   -0.045</td> <td>   -0.005</td>\n",
       "</tr>\n",
       "<tr>\n",
       "  <th>Not well</th>                                                 <td>    0.0359</td> <td>    0.020</td> <td>    1.792</td> <td> 0.073</td> <td>   -0.003</td> <td>    0.075</td>\n",
       "</tr>\n",
       "<tr>\n",
       "  <th>Not at all</th>                                               <td>   -0.3633</td> <td>    0.077</td> <td>   -4.743</td> <td> 0.000</td> <td>   -0.514</td> <td>   -0.213</td>\n",
       "</tr>\n",
       "<tr>\n",
       "  <th>Never married</th>                                            <td>    0.0026</td> <td>    0.005</td> <td>    0.489</td> <td> 0.625</td> <td>   -0.008</td> <td>    0.013</td>\n",
       "</tr>\n",
       "<tr>\n",
       "  <th>Widowed</th>                                                  <td>    0.0277</td> <td>    0.048</td> <td>    0.580</td> <td> 0.562</td> <td>   -0.066</td> <td>    0.121</td>\n",
       "</tr>\n",
       "<tr>\n",
       "  <th>Divorced</th>                                                 <td>    0.0219</td> <td>    0.010</td> <td>    2.265</td> <td> 0.024</td> <td>    0.003</td> <td>    0.041</td>\n",
       "</tr>\n",
       "<tr>\n",
       "  <th>Separated</th>                                                <td>    0.1396</td> <td>    0.022</td> <td>    6.478</td> <td> 0.000</td> <td>    0.097</td> <td>    0.182</td>\n",
       "</tr>\n",
       "<tr>\n",
       "  <th>Married</th>                                                  <td>   -0.0086</td> <td>    0.006</td> <td>   -1.453</td> <td> 0.146</td> <td>   -0.020</td> <td>    0.003</td>\n",
       "</tr>\n",
       "<tr>\n",
       "  <th>National Government</th>                                      <td>   -0.0213</td> <td>    0.013</td> <td>   -1.683</td> <td> 0.093</td> <td>   -0.046</td> <td>    0.004</td>\n",
       "</tr>\n",
       "<tr>\n",
       "  <th>State/Territory Government</th>                               <td>   -0.0185</td> <td>    0.011</td> <td>   -1.621</td> <td> 0.105</td> <td>   -0.041</td> <td>    0.004</td>\n",
       "</tr>\n",
       "<tr>\n",
       "  <th>Local Government</th>                                         <td>    0.0602</td> <td>    0.028</td> <td>    2.154</td> <td> 0.031</td> <td>    0.005</td> <td>    0.115</td>\n",
       "</tr>\n",
       "<tr>\n",
       "  <th>Private sector</th>                                           <td>   -0.0117</td> <td>    0.006</td> <td>   -2.014</td> <td> 0.044</td> <td>   -0.023</td> <td>   -0.000</td>\n",
       "</tr>\n",
       "<tr>\n",
       "  <th>Nil hours</th>                                                <td>   -0.0171</td> <td>    0.010</td> <td>   -1.652</td> <td> 0.099</td> <td>   -0.037</td> <td>    0.003</td>\n",
       "</tr>\n",
       "<tr>\n",
       "  <th>Less than 5 hours</th>                                        <td>   -0.0032</td> <td>    0.009</td> <td>   -0.350</td> <td> 0.726</td> <td>   -0.021</td> <td>    0.015</td>\n",
       "</tr>\n",
       "<tr>\n",
       "  <th>5 to 14 hours</th>                                            <td>    0.0030</td> <td>    0.006</td> <td>    0.498</td> <td> 0.618</td> <td>   -0.009</td> <td>    0.015</td>\n",
       "</tr>\n",
       "<tr>\n",
       "  <th>15 to 29 hours</th>                                           <td>    0.0407</td> <td>    0.012</td> <td>    3.482</td> <td> 0.001</td> <td>    0.018</td> <td>    0.064</td>\n",
       "</tr>\n",
       "<tr>\n",
       "  <th>30 hours or more</th>                                         <td>    0.0024</td> <td>    0.011</td> <td>    0.220</td> <td> 0.826</td> <td>   -0.019</td> <td>    0.023</td>\n",
       "</tr>\n",
       "<tr>\n",
       "  <th>Not a volunteer</th>                                          <td>   -0.0145</td> <td>    0.007</td> <td>   -2.057</td> <td> 0.040</td> <td>   -0.028</td> <td>   -0.001</td>\n",
       "</tr>\n",
       "<tr>\n",
       "  <th>Volunteer</th>                                                <td>   -0.0213</td> <td>    0.008</td> <td>   -2.507</td> <td> 0.012</td> <td>   -0.038</td> <td>   -0.005</td>\n",
       "</tr>\n",
       "</table>\n",
       "<table class=\"simpletable\">\n",
       "<tr>\n",
       "  <th>Omnibus:</th>       <td>1268.427</td> <th>  Durbin-Watson:     </th> <td>   1.944</td> \n",
       "</tr>\n",
       "<tr>\n",
       "  <th>Prob(Omnibus):</th>  <td> 0.000</td>  <th>  Jarque-Bera (JB):  </th> <td>79841.415</td>\n",
       "</tr>\n",
       "<tr>\n",
       "  <th>Skew:</th>           <td> 1.908</td>  <th>  Prob(JB):          </th> <td>    0.00</td> \n",
       "</tr>\n",
       "<tr>\n",
       "  <th>Kurtosis:</th>       <td>32.130</td>  <th>  Cond. No.          </th> <td>6.53e+03</td> \n",
       "</tr>\n",
       "</table><br/><br/>Notes:<br/>[1] Standard Errors assume that the covariance matrix of the errors is correctly specified.<br/>[2] The condition number is large, 6.53e+03. This might indicate that there are<br/>strong multicollinearity or other numerical problems."
      ],
      "text/plain": [
       "<class 'statsmodels.iolib.summary.Summary'>\n",
       "\"\"\"\n",
       "                            OLS Regression Results                            \n",
       "==============================================================================\n",
       "Dep. Variable:                      y   R-squared:                       0.649\n",
       "Model:                            OLS   Adj. R-squared:                  0.632\n",
       "Method:                 Least Squares   F-statistic:                     39.13\n",
       "Date:                Thu, 05 Aug 2021   Prob (F-statistic):               0.00\n",
       "Time:                        21:36:52   Log-Likelihood:                -2707.6\n",
       "No. Observations:                2220   AIC:                             5617.\n",
       "Df Residuals:                    2119   BIC:                             6193.\n",
       "Df Model:                         100                                         \n",
       "Covariance Type:            nonrobust                                         \n",
       "============================================================================================================================\n",
       "                                                               coef    std err          t      P>|t|      [0.025      0.975]\n",
       "----------------------------------------------------------------------------------------------------------------------------\n",
       "const                                                        0.1175      0.588      0.200      0.842      -1.036       1.271\n",
       "Nil distance                                                -0.0369      0.012     -3.083      0.002      -0.060      -0.013\n",
       "Over 0 km to less than 2.5 km                               -0.0268      0.006     -4.589      0.000      -0.038      -0.015\n",
       "2.5 km to less than 10 km                                   -0.0135      0.005     -2.462      0.014      -0.024      -0.003\n",
       "10 km to less than 30 km                                    -0.0133      0.005     -2.413      0.016      -0.024      -0.002\n",
       "30 km to less than 50 km                                    -0.0195      0.006     -3.060      0.002      -0.032      -0.007\n",
       "50 km to less than 250 km                                   -0.0337      0.008     -4.445      0.000      -0.049      -0.019\n",
       "250 km and over                                             -0.0538      0.015     -3.477      0.001      -0.084      -0.023\n",
       "Participant in the Community Development Programme          -0.0117      0.045     -0.260      0.795      -0.100       0.076\n",
       "Not a participant in the Community Development Programme     0.0757      0.021      3.523      0.000       0.034       0.118\n",
       "Oceania and Antarctica                                      -0.0075      0.005     -1.489      0.137      -0.017       0.002\n",
       "North-West Europe                                           -0.0047      0.010     -0.461      0.645      -0.025       0.015\n",
       "Southern and Eastern Europe                                 -0.0195      0.023     -0.845      0.398      -0.065       0.026\n",
       "North Africa and the Middle East                            -0.0857      0.012     -6.900      0.000      -0.110      -0.061\n",
       "South-East Asia                                             -0.0193      0.009     -2.233      0.026      -0.036      -0.002\n",
       "North-East Asia                                              0.0047      0.008      0.555      0.579      -0.012       0.021\n",
       "Southern and Central Asia                                    0.0103      0.008      1.226      0.220      -0.006       0.027\n",
       "Americas                                                    -0.0065      0.019     -0.351      0.726      -0.043       0.030\n",
       "Sub-Saharan Africa                                           0.0187      0.019      0.995      0.320      -0.018       0.056\n",
       "Supplementary codes                                          0.1226      0.189      0.648      0.517      -0.248       0.494\n",
       "Did not provide child care                                   0.0325      0.007      4.847      0.000       0.019       0.046\n",
       "Cared for own child/children                                 0.0129      0.008      1.669      0.095      -0.002       0.028\n",
       "Cared for other child/children                              -0.0025      0.019     -0.135      0.892      -0.039       0.034\n",
       "Cared for own child/children and other child/children        0.0107      0.023      0.467      0.640      -0.034       0.055\n",
       "Has need for assistance with core activities                -0.0903      0.025     -3.566      0.000      -0.140      -0.041\n",
       "Does not have need for assistance with core activities       0.0027      0.004      0.635      0.525      -0.006       0.011\n",
       "Postgraduate Degree Level                                    0.0111      0.013      0.858      0.391      -0.014       0.036\n",
       "Graduate Diploma and Graduate Certificate Level              0.0085      0.022      0.393      0.694      -0.034       0.051\n",
       "Bachelor Degree Level                                        0.0194      0.010      1.954      0.051   -7.17e-05       0.039\n",
       "Advanced Diploma and Diploma Level                          -0.0106      0.012     -0.918      0.359      -0.033       0.012\n",
       "Certificate III & IV Level                                  -0.0075      0.009     -0.828      0.408      -0.025       0.010\n",
       "Secondary Education - Years 10 and above                     0.0208      0.008      2.542      0.011       0.005       0.037\n",
       "Certificate I & II Level                                    -0.2252      0.122     -1.852      0.064      -0.464       0.013\n",
       "Secondary Education - Years 9 and below                      0.1269      0.018      7.230      0.000       0.093       0.161\n",
       "Supplementary Codes                                          0.0134      0.023      0.582      0.561      -0.032       0.058\n",
       "Fully engaged                                                0.0137      0.007      1.903      0.057      -0.000       0.028\n",
       "Partially engaged                                           -0.0308      0.009     -3.406      0.001      -0.049      -0.013\n",
       "At least partially engaged                                  -0.0378      0.017     -2.273      0.023      -0.070      -0.005\n",
       "Not Engaged                                                  0.0683      0.010      7.157      0.000       0.050       0.087\n",
       "Agriculture, Forestry and Fishing                           -0.0382      0.015     -2.498      0.013      -0.068      -0.008\n",
       "Mining                                                      -0.0127      0.019     -0.651      0.515      -0.051       0.026\n",
       "Manufacturing                                               -0.0031      0.019     -0.166      0.868      -0.039       0.033\n",
       "Electricity, Gas, Water and Waste Services                   0.0267      0.047      0.569      0.569      -0.065       0.119\n",
       "Construction                                                -0.0631      0.027     -2.352      0.019      -0.116      -0.010\n",
       "Wholesale Trade                                              0.0321      0.029      1.119      0.263      -0.024       0.088\n",
       "Retail Trade                                                -0.0657      0.017     -3.903      0.000      -0.099      -0.033\n",
       "Accommodation and Food Services                             -0.0206      0.015     -1.367      0.172      -0.050       0.009\n",
       "Transport, Postal and Warehousing                            0.0010      0.012      0.078      0.938      -0.023       0.025\n",
       "Information Media and Telecommunications                    -0.0466      0.035     -1.341      0.180      -0.115       0.022\n",
       "Financial and Insurance Services                            -0.0233      0.020     -1.160      0.246      -0.063       0.016\n",
       "Rental, Hiring and Real Estate Services                      0.0107      0.037      0.287      0.774      -0.063       0.084\n",
       "Professional, Scientific and Technical Services              0.0054      0.016      0.334      0.738      -0.026       0.037\n",
       "Administrative and Support Services                          0.0398      0.026      1.558      0.119      -0.010       0.090\n",
       "Public Administration and Safety                            -0.0056      0.013     -0.416      0.678      -0.032       0.021\n",
       "Education and Training                                      -0.0282      0.014     -1.967      0.049      -0.056   -8.28e-05\n",
       "Health Care and Social Assistance                           -0.0095      0.012     -0.789      0.430      -0.033       0.014\n",
       "Arts and Recreation Services                                -0.0854      0.032     -2.671      0.008      -0.148      -0.023\n",
       "Other Services                                              -0.0527      0.028     -1.889      0.059      -0.107       0.002\n",
       "Managers                                                     0.0272      0.015      1.838      0.066      -0.002       0.056\n",
       "Professionals                                                0.0376      0.013      2.951      0.003       0.013       0.063\n",
       "Technicians and Trades Workers                               0.0261      0.024      1.104      0.270      -0.020       0.073\n",
       "Community and Personal Service Workers                       0.0467      0.014      3.295      0.001       0.019       0.075\n",
       "Clerical and Administrative Workers                          0.0297      0.011      2.607      0.009       0.007       0.052\n",
       "Sales Workers                                                0.0313      0.023      1.358      0.175      -0.014       0.076\n",
       "Machinery Operators and Drivers                              0.0237      0.035      0.681      0.496      -0.045       0.092\n",
       "Labourers                                                    0.0390      0.017      2.279      0.023       0.005       0.072\n",
       "Negative income                                              0.0852      0.058      1.462      0.144      -0.029       0.200\n",
       "Nil income                                                   0.0606      0.014      4.184      0.000       0.032       0.089\n",
       "$1-$149 ($1-$7,799)                                         -0.0703      0.014     -5.002      0.000      -0.098      -0.043\n",
       "$150-$299 ($7,800-$15,599)                                   0.0885      0.012      7.587      0.000       0.066       0.111\n",
       "$300-$399 ($15,600-$20,799)                                 -0.0443      0.018     -2.453      0.014      -0.080      -0.009\n",
       "$400-$499 ($20,800-$25,999)                                 -0.0129      0.017     -0.767      0.443      -0.046       0.020\n",
       "$500-$649 ($26,000-$33,799)                                  0.0420      0.014      3.095      0.002       0.015       0.069\n",
       "$650-$799 ($33,800-$41,599)                                 -0.0039      0.015     -0.263      0.793      -0.033       0.025\n",
       "$800-$999 ($41,600-$51,999)                                 -0.0010      0.015     -0.064      0.949      -0.031       0.029\n",
       "$1,000-$1,249 ($52,000-$64,999)                             -0.0331      0.015     -2.195      0.028      -0.063      -0.004\n",
       "$1,250-$1,499 ($65,000-$77,999)                              0.0110      0.017      0.636      0.525      -0.023       0.045\n",
       "$1,500-$1,749 ($78,000-$90,999)                              0.0031      0.016      0.197      0.844      -0.027       0.033\n",
       "$1,750-$1,999 ($91,000-$103,999)                            -0.0143      0.024     -0.604      0.546      -0.061       0.032\n",
       "$2,000-$2,999 ($104,000-$155,999)                           -0.0073      0.018     -0.395      0.693      -0.043       0.029\n",
       "$3,000 or more ($156,000 or more)                           -0.0536      0.020     -2.620      0.009      -0.094      -0.013\n",
       "Very well                                                   -0.0083      0.006     -1.448      0.148      -0.019       0.003\n",
       "Well                                                        -0.0248      0.010     -2.417      0.016      -0.045      -0.005\n",
       "Not well                                                     0.0359      0.020      1.792      0.073      -0.003       0.075\n",
       "Not at all                                                  -0.3633      0.077     -4.743      0.000      -0.514      -0.213\n",
       "Never married                                                0.0026      0.005      0.489      0.625      -0.008       0.013\n",
       "Widowed                                                      0.0277      0.048      0.580      0.562      -0.066       0.121\n",
       "Divorced                                                     0.0219      0.010      2.265      0.024       0.003       0.041\n",
       "Separated                                                    0.1396      0.022      6.478      0.000       0.097       0.182\n",
       "Married                                                     -0.0086      0.006     -1.453      0.146      -0.020       0.003\n",
       "National Government                                         -0.0213      0.013     -1.683      0.093      -0.046       0.004\n",
       "State/Territory Government                                  -0.0185      0.011     -1.621      0.105      -0.041       0.004\n",
       "Local Government                                             0.0602      0.028      2.154      0.031       0.005       0.115\n",
       "Private sector                                              -0.0117      0.006     -2.014      0.044      -0.023      -0.000\n",
       "Nil hours                                                   -0.0171      0.010     -1.652      0.099      -0.037       0.003\n",
       "Less than 5 hours                                           -0.0032      0.009     -0.350      0.726      -0.021       0.015\n",
       "5 to 14 hours                                                0.0030      0.006      0.498      0.618      -0.009       0.015\n",
       "15 to 29 hours                                               0.0407      0.012      3.482      0.001       0.018       0.064\n",
       "30 hours or more                                             0.0024      0.011      0.220      0.826      -0.019       0.023\n",
       "Not a volunteer                                             -0.0145      0.007     -2.057      0.040      -0.028      -0.001\n",
       "Volunteer                                                   -0.0213      0.008     -2.507      0.012      -0.038      -0.005\n",
       "==============================================================================\n",
       "Omnibus:                     1268.427   Durbin-Watson:                   1.944\n",
       "Prob(Omnibus):                  0.000   Jarque-Bera (JB):            79841.415\n",
       "Skew:                           1.908   Prob(JB):                         0.00\n",
       "Kurtosis:                      32.130   Cond. No.                     6.53e+03\n",
       "==============================================================================\n",
       "\n",
       "Notes:\n",
       "[1] Standard Errors assume that the covariance matrix of the errors is correctly specified.\n",
       "[2] The condition number is large, 6.53e+03. This might indicate that there are\n",
       "strong multicollinearity or other numerical problems.\n",
       "\"\"\""
      ]
     },
     "execution_count": 29,
     "metadata": {},
     "output_type": "execute_result"
    }
   ],
   "source": [
    "\n",
    "Xols_all = sm.add_constant(X_all)\n",
    "est_allfeatures = sm.OLS(y,Xols_all).fit()\n",
    "est_allfeatures.summary()"
   ]
  },
  {
   "cell_type": "markdown",
   "metadata": {
    "heading_collapsed": true
   },
   "source": [
    "# remove insigficant features and run the OLS model"
   ]
  },
  {
   "cell_type": "code",
   "execution_count": null,
   "metadata": {
    "hidden": true
   },
   "outputs": [],
   "source": [
    "#high pvalues\n",
    "highpvalue_columns = ['Participant in the Community Development Programme','Transport, Postal and Warehousing','Manufacturing',\n",
    "                'North-West Europe','North-East Asia','Americas','Cared for other child/children',\n",
    "               'Graduate Diploma and Graduate Certificate Level','Electricity, Gas, Water and Waste Services','Mining',\n",
    "                     'Rental, Hiring and Real Estate Services','Professional, Scientific and Technical Services',\n",
    "                      'Sub-Saharan Africa','Supplementary codes','Supplementary Codes','Cared for own child/children and other child/children'\n",
    "                     ,'Public Administration and Safety','Machinery Operators and Drivers']\n",
    "\n",
    "X_lowp = X_all.drop(columns=highpvalue_columns, axis=1)"
   ]
  },
  {
   "cell_type": "code",
   "execution_count": null,
   "metadata": {
    "hidden": true
   },
   "outputs": [],
   "source": [
    "X_lowp = sm.add_constant(X_lowp)\n",
    "est_lowp = sm.OLS(y, X_lowp).fit()\n",
    "est_lowp.summary()"
   ]
  },
  {
   "cell_type": "markdown",
   "metadata": {
    "heading_collapsed": true
   },
   "source": [
    "# compare all the models with all features"
   ]
  },
  {
   "cell_type": "code",
   "execution_count": null,
   "metadata": {
    "hidden": true
   },
   "outputs": [],
   "source": [
    "\n",
    "\n",
    "seed = 7\n",
    "# prepare models\n",
    "models = []\n",
    "models.append(('LR', LinearRegression()))\n",
    "models.append(('ABR', AdaBoostRegressor()))\n",
    "models.append(('XGR', XGBRegressor(n_estimators=100,learning_rate=0.1, gamma=10)))\n",
    "models.append(('XGRF', XGBRFRegressor(n_estimators=100, subsample=0.9, colsample_bynode=0.2)))\n",
    "models.append(('KNNR', KNeighborsRegressor()))\n",
    "models.append(('ETR', ExtraTreeRegressor()))\n",
    "# models.append(('NB', GaussianNB()))\n",
    "# models.append(('SVM', SVC()))\n",
    "# evaluate each model in turn\n",
    "results = []\n",
    "names = []\n",
    "scoring = 'accuracy'\n",
    "\n",
    "for name, model in models:\n",
    "    start_time = time.time()\n",
    "    model.fit(Xall_train, y_train)\n",
    "    \n",
    "    y_pred_all = model.predict(Xall_test)\n",
    "    predictions = [round(value) for value in y_pred_all]\n",
    "    \n",
    "    #evaluate the predictons\n",
    "    accuracy = r2_score(y_test, predictions)\n",
    "    print(\"Accuracy: %0.2f%%\"%(accuracy * 100.0), name)\n",
    "    print(\"----%s seconds ---\"%(time.time() - start_time))\n",
    "    \n",
    "    # define the model evaluation procedure\n",
    "    cv = RepeatedKFold(n_splits=10, n_repeats=3, random_state=1)\n",
    "    # evaluate the model and collect the scores\n",
    "    n_scores = cross_val_score(model, X_all, y, scoring='neg_mean_absolute_error', cv=cv, n_jobs=-1)\n",
    "     # report performance\n",
    "    print('MAE: %.3f (%.3f)' % (np.mean(n_scores), np.std(n_scores)))\n",
    "    \n",
    "#     kfold = model_selection.KFold(n_splits=5)\n",
    "#     cv_results = model_selection.cross_val_score(model, X, y, cv=kfold)\n",
    "#     results.append(cv_results)\n",
    "#     names.append(name)\n",
    "#     msg = \"%s: %f (%f)\" % (name, cv_results.mean(), cv_results.std())\n",
    "#     print(msg)\n",
    "#boxplot algorithm comparison\n",
    "# fig = plt.figure()\n",
    "# fig.suptitle('Algorithm Comparison')\n",
    "# ax = fig.add_subplot(111)\n",
    "# plt.boxplot(results)\n",
    "# ax.set_xticklabels(names)\n",
    "# plt.show()"
   ]
  },
  {
   "cell_type": "markdown",
   "metadata": {
    "heading_collapsed": true
   },
   "source": [
    "# Hyper parameter tuning for XGBoost with RandomSearchCv"
   ]
  },
  {
   "cell_type": "code",
   "execution_count": null,
   "metadata": {
    "hidden": true
   },
   "outputs": [],
   "source": [
    "# parameter tuning\n",
    "\n",
    "params={\n",
    "    \"learning_rate\":[0.05,0.10,0.15,0.20,0.30],\n",
    "    \"max_depth\":[2,4,5,6,7,8,10,12,15],\n",
    "    \"min_child_weight\":[1,3,5,7],\n",
    "    \"gammma\":[0.0,0.1,0.2,0.3,0.4],\n",
    "    \"colsample_bytree\":[0.3,0.4,0.5,0.6]\n",
    "}\n",
    "\n",
    "xgb_all = XGBRegressor()\n",
    "\n",
    "random_search_all = RandomizedSearchCV(xgb_all, param_distributions=params, n_iter=5,scoring='neg_mean_absolute_error'\n",
    "                                  ,n_jobs=-1, cv=5,verbose=3)"
   ]
  },
  {
   "cell_type": "code",
   "execution_count": null,
   "metadata": {
    "hidden": true
   },
   "outputs": [],
   "source": [
    "def timer(start_time=None):\n",
    "    if not start_time:\n",
    "        start_time = datetime.now()\n",
    "        return start_time\n",
    "    elif start_time:\n",
    "        thour, temp_sec = divmod((datetime.now() - start_time).total_seconds(), 3600)\n",
    "        tmin, tsec = divmod(temp_sec, 60)\n",
    "        print('\\n Time taken: %i hours %i minutes and %s seconds.' % (thour, tmin, round(tsec, 2)))"
   ]
  },
  {
   "cell_type": "code",
   "execution_count": null,
   "metadata": {
    "hidden": true
   },
   "outputs": [],
   "source": [
    "from datetime import datetime\n",
    "# Here we go\n",
    "start_time = timer(None) # timing starts from this point for \"start_time\" variable\n",
    "random_search_all.fit(Xall_train,y_train)\n",
    "timer(start_time) # timing ends here for \"start_time\" variable"
   ]
  },
  {
   "cell_type": "code",
   "execution_count": null,
   "metadata": {
    "hidden": true
   },
   "outputs": [],
   "source": [
    "random_search_all.best_estimator_"
   ]
  },
  {
   "cell_type": "code",
   "execution_count": null,
   "metadata": {
    "hidden": true
   },
   "outputs": [],
   "source": [
    "random_search_all.best_params_"
   ]
  },
  {
   "cell_type": "code",
   "execution_count": null,
   "metadata": {
    "hidden": true
   },
   "outputs": [],
   "source": [
    "xgb_all_best = XGBRegressor(base_score=0.5, booster='gbtree', colsample_bylevel=1,\n",
    "             colsample_bynode=1, colsample_bytree=0.6, gamma=0, gammma=0.1,\n",
    "             gpu_id=-1, importance_type='gain', interaction_constraints='',\n",
    "             learning_rate=0.05, max_delta_step=0, max_depth=10,\n",
    "             min_child_weight=7, monotone_constraints='()',\n",
    "             n_estimators=100, n_jobs=8, num_parallel_tree=1, random_state=0,\n",
    "             reg_alpha=0, reg_lambda=1, scale_pos_weight=1, subsample=1,\n",
    "             tree_method='exact', validate_parameters=1, verbosity=None)"
   ]
  },
  {
   "cell_type": "code",
   "execution_count": null,
   "metadata": {
    "hidden": true
   },
   "outputs": [],
   "source": [
    "n_scores_all = cross_val_score(xgb_all_best, X_all, y, scoring='neg_mean_absolute_error', cv=10, n_jobs=-1)"
   ]
  },
  {
   "cell_type": "code",
   "execution_count": null,
   "metadata": {
    "hidden": true
   },
   "outputs": [],
   "source": [
    "n_scores_all.mean()"
   ]
  },
  {
   "cell_type": "markdown",
   "metadata": {
    "heading_collapsed": true
   },
   "source": [
    "# Feature Selection "
   ]
  },
  {
   "cell_type": "markdown",
   "metadata": {
    "heading_collapsed": true
   },
   "source": [
    "# Linear Regression with selected features"
   ]
  },
  {
   "cell_type": "code",
   "execution_count": null,
   "metadata": {
    "hidden": true
   },
   "outputs": [],
   "source": [
    "\n",
    "\n",
    "lr_40 = Pipeline([\n",
    "  ('feature_selection', SelectKBest(score_func = f_regression, k=40)),\n",
    "  ('lr', LinearRegression())\n",
    "])\n",
    "lr_40.fit(Xall_train, y_train)"
   ]
  },
  {
   "cell_type": "code",
   "execution_count": null,
   "metadata": {
    "hidden": true
   },
   "outputs": [],
   "source": [
    "lr_40.score(Xall_test, y_test)"
   ]
  },
  {
   "cell_type": "markdown",
   "metadata": {
    "heading_collapsed": true
   },
   "source": [
    "# XGRegressor with selected features"
   ]
  },
  {
   "cell_type": "code",
   "execution_count": null,
   "metadata": {
    "hidden": true
   },
   "outputs": [],
   "source": [
    "xgb_40 = Pipeline([\n",
    "  ('feature_selection', SelectKBest(score_func = f_regression, k=40)),\n",
    "  ('xgb', XGBRegressor())\n",
    "])\n",
    "xgb_40.fit(Xall_train, y_train)"
   ]
  },
  {
   "cell_type": "code",
   "execution_count": null,
   "metadata": {
    "hidden": true
   },
   "outputs": [],
   "source": [
    "xgb_40.score(Xall_test, y_test)"
   ]
  },
  {
   "cell_type": "code",
   "execution_count": null,
   "metadata": {
    "hidden": true
   },
   "outputs": [],
   "source": [
    "y_pred_xgb_40 = xgb_40.predict(Xall_test)\n",
    "# y_pred_clf = clf.predict()\n",
    "\n",
    "mse_xgb_40 = mean_squared_error(y_test, y_pred_xgb_40)\n",
    "rmse_xgb_40 = mean_squared_error(y_test, y_pred_xgb_40, squared=False)\n",
    "mse_xgb_40, rmse_xgb_40"
   ]
  },
  {
   "cell_type": "markdown",
   "metadata": {
    "heading_collapsed": true
   },
   "source": [
    "# mutual information based feature selection"
   ]
  },
  {
   "cell_type": "code",
   "execution_count": null,
   "metadata": {
    "hidden": true
   },
   "outputs": [],
   "source": [
    "\n",
    "# determine the mutual information\n",
    "mutual_info = mutual_info_regression(Xall_train.fillna(0), y_train)\n",
    "#mutual_info"
   ]
  },
  {
   "cell_type": "code",
   "execution_count": null,
   "metadata": {
    "hidden": true
   },
   "outputs": [],
   "source": [
    "\n",
    "mutual_info = pd.Series(mutual_info)\n",
    "mutual_info.index = Xall_train.columns\n",
    "mutual_info.sort_values(ascending=False)"
   ]
  },
  {
   "cell_type": "code",
   "execution_count": null,
   "metadata": {
    "hidden": true
   },
   "outputs": [],
   "source": [
    "mutual_info[:40].sort_values(ascending=False).plot.bar(figsize=(15,5))"
   ]
  },
  {
   "cell_type": "code",
   "execution_count": null,
   "metadata": {
    "hidden": true
   },
   "outputs": [],
   "source": [
    "selected_top_columns_all = SelectPercentile(mutual_info_regression, percentile=30)\n",
    "selected_top_columns_all.fit(Xall_train.fillna(0), y_train)"
   ]
  },
  {
   "cell_type": "code",
   "execution_count": null,
   "metadata": {
    "hidden": true
   },
   "outputs": [],
   "source": [
    "Xall_train.columns[selected_top_columns_all.get_support()]"
   ]
  },
  {
   "cell_type": "code",
   "execution_count": null,
   "metadata": {
    "hidden": true
   },
   "outputs": [],
   "source": [
    "Xtrain_mf20 = Xall_train[['Nil distance', 'Graduate Diploma and Graduate Certificate Level',\n",
    "       'Bachelor Degree Level', 'Secondary Education - Years 9 and below',\n",
    "       'Partially engaged', 'Not Engaged', 'Education and Training',\n",
    "       'Managers', 'Professionals', 'Labourers', '$150-$299 ($7,800-$15,599)',\n",
    "       '$300-$399 ($15,600-$20,799)', '$1,000-$1,249 ($52,000-$64,999)',\n",
    "       '$1,250-$1,499 ($65,000-$77,999)', '$1,500-$1,749 ($78,000-$90,999)',\n",
    "       '$2,000-$2,999 ($104,000-$155,999)',\n",
    "       '$3,000 or more ($156,000 or more)', 'Separated', 'Private sector',\n",
    "       'Volunteer']]\n",
    "Xtest_mf20 = Xall_test[['Nil distance', 'Graduate Diploma and Graduate Certificate Level',\n",
    "       'Bachelor Degree Level', 'Secondary Education - Years 9 and below',\n",
    "       'Partially engaged', 'Not Engaged', 'Education and Training',\n",
    "       'Managers', 'Professionals', 'Labourers', '$150-$299 ($7,800-$15,599)',\n",
    "       '$300-$399 ($15,600-$20,799)', '$1,000-$1,249 ($52,000-$64,999)',\n",
    "       '$1,250-$1,499 ($65,000-$77,999)', '$1,500-$1,749 ($78,000-$90,999)',\n",
    "       '$2,000-$2,999 ($104,000-$155,999)',\n",
    "       '$3,000 or more ($156,000 or more)', 'Separated', 'Private sector',\n",
    "       'Volunteer']]\n",
    "\n",
    "Xtrain_mf30 = Xall_train[['Nil distance', 'Graduate Diploma and Graduate Certificate Level',\n",
    "       'Bachelor Degree Level', 'Secondary Education - Years 9 and below',\n",
    "       'Supplementary Codes', 'Fully engaged', 'Partially engaged',\n",
    "       'At least partially engaged', 'Not Engaged',\n",
    "       'Professional, Scientific and Technical Services',\n",
    "       'Public Administration and Safety', 'Education and Training',\n",
    "       'Health Care and Social Assistance', 'Managers', 'Professionals',\n",
    "       'Clerical and Administrative Workers', 'Labourers',\n",
    "       '$150-$299 ($7,800-$15,599)', '$300-$399 ($15,600-$20,799)',\n",
    "       '$1,000-$1,249 ($52,000-$64,999)', '$1,250-$1,499 ($65,000-$77,999)',\n",
    "       '$1,500-$1,749 ($78,000-$90,999)', '$1,750-$1,999 ($91,000-$103,999)',\n",
    "       '$2,000-$2,999 ($104,000-$155,999)',\n",
    "       '$3,000 or more ($156,000 or more)', 'Separated',\n",
    "       'State/Territory Government', 'Private sector', '5 to 14 hours',\n",
    "       'Volunteer']]\n",
    "\n",
    "Xtest_mf30 = Xall_test[['Nil distance', 'Graduate Diploma and Graduate Certificate Level',\n",
    "       'Bachelor Degree Level', 'Secondary Education - Years 9 and below',\n",
    "       'Supplementary Codes', 'Fully engaged', 'Partially engaged',\n",
    "       'At least partially engaged', 'Not Engaged',\n",
    "       'Professional, Scientific and Technical Services',\n",
    "       'Public Administration and Safety', 'Education and Training',\n",
    "       'Health Care and Social Assistance', 'Managers', 'Professionals',\n",
    "       'Clerical and Administrative Workers', 'Labourers',\n",
    "       '$150-$299 ($7,800-$15,599)', '$300-$399 ($15,600-$20,799)',\n",
    "       '$1,000-$1,249 ($52,000-$64,999)', '$1,250-$1,499 ($65,000-$77,999)',\n",
    "       '$1,500-$1,749 ($78,000-$90,999)', '$1,750-$1,999 ($91,000-$103,999)',\n",
    "       '$2,000-$2,999 ($104,000-$155,999)',\n",
    "       '$3,000 or more ($156,000 or more)', 'Separated',\n",
    "       'State/Territory Government', 'Private sector', '5 to 14 hours',\n",
    "       'Volunteer']]"
   ]
  },
  {
   "cell_type": "code",
   "execution_count": null,
   "metadata": {
    "hidden": true
   },
   "outputs": [],
   "source": [
    "Xtrain_17 = Xall_train[['Nil distance', \n",
    "       'Bachelor Degree Level', 'Secondary Education - Years 9 and below',\n",
    "       'Partially engaged', 'Not Engaged', \n",
    "       'Managers', 'Labourers', '$150-$299 ($7,800-$15,599)',\n",
    "       '$300-$399 ($15,600-$20,799)', '$1,000-$1,249 ($52,000-$64,999)',\n",
    "       '$1,250-$1,499 ($65,000-$77,999)', '$1,500-$1,749 ($78,000-$90,999)',\n",
    "       '$2,000-$2,999 ($104,000-$155,999)',\n",
    "       '$3,000 or more ($156,000 or more)', 'Separated', 'Private sector',\n",
    "       'Volunteer']]\n",
    "\n",
    "Xtest_17 = Xall_train[['Nil distance', \n",
    "       'Bachelor Degree Level', 'Secondary Education - Years 9 and below',\n",
    "       'Partially engaged', 'Not Engaged', \n",
    "       'Managers', 'Labourers', '$150-$299 ($7,800-$15,599)',\n",
    "       '$300-$399 ($15,600-$20,799)', '$1,000-$1,249 ($52,000-$64,999)',\n",
    "       '$1,250-$1,499 ($65,000-$77,999)', '$1,500-$1,749 ($78,000-$90,999)',\n",
    "       '$2,000-$2,999 ($104,000-$155,999)',\n",
    "       '$3,000 or more ($156,000 or more)', 'Separated', 'Private sector',\n",
    "       'Volunteer']]"
   ]
  },
  {
   "cell_type": "code",
   "execution_count": null,
   "metadata": {
    "hidden": true
   },
   "outputs": [],
   "source": [
    "X_17 = X_all[['Nil distance', \n",
    "       'Bachelor Degree Level', 'Secondary Education - Years 9 and below',\n",
    "       'Partially engaged', 'Not Engaged', \n",
    "       'Managers', 'Labourers', '$150-$299 ($7,800-$15,599)',\n",
    "       '$300-$399 ($15,600-$20,799)', '$1,000-$1,249 ($52,000-$64,999)',\n",
    "       '$1,250-$1,499 ($65,000-$77,999)', '$1,500-$1,749 ($78,000-$90,999)',\n",
    "       '$2,000-$2,999 ($104,000-$155,999)',\n",
    "       '$3,000 or more ($156,000 or more)', 'Separated', 'Private sector',\n",
    "       'Volunteer']]\n",
    "\n",
    "X_30 = X_all[['Nil distance', 'Graduate Diploma and Graduate Certificate Level',\n",
    "       'Bachelor Degree Level', 'Secondary Education - Years 9 and below',\n",
    "       'Supplementary Codes', 'Fully engaged', 'Partially engaged',\n",
    "       'At least partially engaged', 'Not Engaged',\n",
    "       'Professional, Scientific and Technical Services',\n",
    "       'Public Administration and Safety', 'Education and Training',\n",
    "       'Health Care and Social Assistance', 'Managers', 'Professionals',\n",
    "       'Clerical and Administrative Workers', 'Labourers',\n",
    "       '$150-$299 ($7,800-$15,599)', '$300-$399 ($15,600-$20,799)',\n",
    "       '$1,000-$1,249 ($52,000-$64,999)', '$1,250-$1,499 ($65,000-$77,999)',\n",
    "       '$1,500-$1,749 ($78,000-$90,999)', '$1,750-$1,999 ($91,000-$103,999)',\n",
    "       '$2,000-$2,999 ($104,000-$155,999)',\n",
    "       '$3,000 or more ($156,000 or more)', 'Separated',\n",
    "       'State/Territory Government', 'Private sector', '5 to 14 hours',\n",
    "       'Volunteer']]\n"
   ]
  },
  {
   "cell_type": "markdown",
   "metadata": {
    "heading_collapsed": true
   },
   "source": [
    "# VIF score"
   ]
  },
  {
   "cell_type": "code",
   "execution_count": null,
   "metadata": {
    "hidden": true
   },
   "outputs": [],
   "source": [
    "# VIF dataframe\n",
    "vif_data = pd.DataFrame()\n",
    "vif_data[\"feature\"] = X_all.columns\n",
    "  \n",
    "# calculating VIF for each feature\n",
    "vif_data[\"VIF\"] = [variance_inflation_factor(X_all.values, i)\n",
    "                          for i in range(len(X_all.columns))]\n",
    "  \n",
    "print(vif_data)\n"
   ]
  },
  {
   "cell_type": "code",
   "execution_count": null,
   "metadata": {
    "hidden": true
   },
   "outputs": [],
   "source": [
    "vif_data.VIF.sort_values(ascending=True)"
   ]
  },
  {
   "cell_type": "code",
   "execution_count": null,
   "metadata": {
    "hidden": true
   },
   "outputs": [],
   "source": [
    "len(vif_data[vif_data.VIF < 10])"
   ]
  },
  {
   "cell_type": "code",
   "execution_count": null,
   "metadata": {
    "hidden": true
   },
   "outputs": [],
   "source": [
    "vif_data[vif_data.VIF < 10].feature.values"
   ]
  },
  {
   "cell_type": "code",
   "execution_count": null,
   "metadata": {
    "hidden": true
   },
   "outputs": [],
   "source": [
    "X_low_vif = X_all[['30 km to less than 50 km', '50 km to less than 250 km',\n",
    "       '250 km and over',\n",
    "       'Participant in the Community Development Programme',\n",
    "       'Not a participant in the Community Development Programme',\n",
    "       'North-West Europe', 'Southern and Eastern Europe',\n",
    "       'North Africa and the Middle East', 'Americas',\n",
    "       'Sub-Saharan Africa', 'Supplementary codes',\n",
    "       'Certificate I & II Level', 'Agriculture, Forestry and Fishing',\n",
    "       'Mining', 'Manufacturing',\n",
    "       'Electricity, Gas, Water and Waste Services', 'Construction',\n",
    "       'Wholesale Trade', 'Transport, Postal and Warehousing',\n",
    "       'Information Media and Telecommunications',\n",
    "       'Rental, Hiring and Real Estate Services',\n",
    "       'Arts and Recreation Services', 'Machinery Operators and Drivers',\n",
    "       'Negative income', '$1-$149 ($1-$7,799)',\n",
    "       '$3,000 or more ($156,000 or more)', 'Not at all', 'Widowed',\n",
    "       'Divorced', 'Local Government']]"
   ]
  },
  {
   "cell_type": "code",
   "execution_count": null,
   "metadata": {
    "hidden": true
   },
   "outputs": [],
   "source": [
    "X_low_vif.shape"
   ]
  },
  {
   "cell_type": "code",
   "execution_count": null,
   "metadata": {
    "hidden": true
   },
   "outputs": [],
   "source": [
    "X_lowvif = vif_data[vif_data.VIF < 10].feature"
   ]
  },
  {
   "cell_type": "code",
   "execution_count": null,
   "metadata": {
    "hidden": true
   },
   "outputs": [],
   "source": [
    "X_lowvif"
   ]
  },
  {
   "cell_type": "code",
   "execution_count": null,
   "metadata": {
    "hidden": true
   },
   "outputs": [],
   "source": [
    "X_all.shape"
   ]
  },
  {
   "cell_type": "markdown",
   "metadata": {
    "heading_collapsed": true
   },
   "source": [
    "# OLS with high mutual info score"
   ]
  },
  {
   "cell_type": "code",
   "execution_count": null,
   "metadata": {
    "hidden": true
   },
   "outputs": [],
   "source": [
    "X_17 = sm.add_constant(X_17)\n",
    "est_mf_17 = sm.OLS(y,X_17).fit()\n",
    "est_mf_17.summary()"
   ]
  },
  {
   "cell_type": "code",
   "execution_count": null,
   "metadata": {
    "hidden": true
   },
   "outputs": [],
   "source": [
    "#with 30 percentile from mututal info()\n",
    "\n",
    "X_30 = sm.add_constant(X_30)\n",
    "est_mf_30 = sm.OLS(y,X_30).fit()\n",
    "est_mf_30.summary()"
   ]
  },
  {
   "cell_type": "code",
   "execution_count": null,
   "metadata": {
    "hidden": true
   },
   "outputs": [],
   "source": [
    "est_mf_30.pvalues[:20].sort_values(ascending=True)"
   ]
  },
  {
   "cell_type": "code",
   "execution_count": null,
   "metadata": {
    "hidden": true
   },
   "outputs": [],
   "source": [
    "import matplotlib.pyplot as plt\n",
    "import seaborn as sns\n",
    "%matplotlib inline\n",
    "# Creating a bar plot\n",
    "sns.barplot(x=imp_features_rf, y=imp_features_rf.index)\n",
    "# Add labels to your graph\n",
    "plt.xlabel('Feature Importance Score')\n",
    "plt.ylabel('Features')\n",
    "plt.title(\"Random Forest Q1\")\n",
    "plt.grid(False)\n",
    "plt.show()"
   ]
  },
  {
   "cell_type": "markdown",
   "metadata": {
    "heading_collapsed": true
   },
   "source": [
    "# OLS with less VIF score"
   ]
  },
  {
   "cell_type": "code",
   "execution_count": null,
   "metadata": {
    "hidden": true
   },
   "outputs": [],
   "source": [
    "X_low_vif = sm.add_constant(X_low_vif)\n",
    "est_low_vif = sm.OLS(y,X_low_vif).fit()\n",
    "est_low_vif.summary()"
   ]
  },
  {
   "cell_type": "markdown",
   "metadata": {
    "heading_collapsed": true
   },
   "source": [
    "# ExtraTreesRegressor "
   ]
  },
  {
   "cell_type": "code",
   "execution_count": null,
   "metadata": {
    "hidden": true
   },
   "outputs": [],
   "source": [
    "etr_ft = ExtraTreeRegressor(max_depth=8, min_samples_leaf=5, max_leaf_nodes=10)\n",
    "etr_ft.fit(Xtrain_mf30, y_train)\n"
   ]
  },
  {
   "cell_type": "code",
   "execution_count": null,
   "metadata": {
    "hidden": true
   },
   "outputs": [],
   "source": [
    "len(Xtrain_mf30.columns)"
   ]
  },
  {
   "cell_type": "code",
   "execution_count": null,
   "metadata": {
    "hidden": true
   },
   "outputs": [],
   "source": [
    "etr_ft.score(Xtest_mf30, y_test)"
   ]
  },
  {
   "cell_type": "code",
   "execution_count": null,
   "metadata": {
    "hidden": true
   },
   "outputs": [],
   "source": [
    "feature_imp_etree = pd.Series(etr_ft.feature_importances_,index=Xtrain_mf30.columns).sort_values(ascending=False)\n",
    "imp_features_etree= feature_imp_etree"
   ]
  },
  {
   "cell_type": "code",
   "execution_count": null,
   "metadata": {
    "hidden": true
   },
   "outputs": [],
   "source": [
    "import matplotlib.pyplot as plt\n",
    "import seaborn as sns\n",
    "%matplotlib inline\n",
    "# Creating a bar plot\n",
    "sns.barplot(x=imp_features_etree, y=imp_features_etree.index)\n",
    "# Add labels to your graph\n",
    "plt.xlabel('Feature Importance Score')\n",
    "plt.ylabel('Features')\n",
    "plt.title(\" Extra Tree Classifier - Q1\")\n",
    "plt.grid(False)\n",
    "plt.show()"
   ]
  },
  {
   "cell_type": "markdown",
   "metadata": {
    "heading_collapsed": true
   },
   "source": [
    "# Stochastic Gradient"
   ]
  },
  {
   "cell_type": "code",
   "execution_count": 13,
   "metadata": {
    "hidden": true
   },
   "outputs": [],
   "source": [
    "# set up my gridsearch parameters:\n",
    "sgd_params = {\n",
    "    'loss':['squared_loss','huber'],\n",
    "    'penalty':['l1','l2'],\n",
    "    'alpha':np.logspace(-1,1,100)\n",
    "}\n",
    "\n",
    "sgd_reg = SGDRegressor(max_iter=100000, tol=0.01, average=True)\n",
    "sgd_reg_gs = GridSearchCV(sgd_reg, sgd_params, cv=10, verbose=False)"
   ]
  },
  {
   "cell_type": "code",
   "execution_count": 14,
   "metadata": {
    "hidden": true
   },
   "outputs": [
    {
     "name": "stdout",
     "output_type": "stream",
     "text": [
      "{'alpha': 0.12618568830660204, 'loss': 'huber', 'penalty': 'l2'}\n",
      "R² (train): 0.486\n"
     ]
    }
   ],
   "source": [
    "sgd_reg_gs.fit(Xall_train, y_train)\n",
    "print(sgd_reg_gs.best_params_)\n",
    "print(\"R² (train):\",round(sgd_reg_gs.best_score_, 3))"
   ]
  },
  {
   "cell_type": "code",
   "execution_count": 15,
   "metadata": {
    "hidden": true
   },
   "outputs": [
    {
     "data": {
      "text/plain": [
       "SGDRegressor(alpha=0.12618568830660204, average=True, loss='huber',\n",
       "             max_iter=100000, tol=0.01)"
      ]
     },
     "execution_count": 15,
     "metadata": {},
     "output_type": "execute_result"
    }
   ],
   "source": [
    "\n",
    "#sgd_reg = sgd_reg_gs.best_estimator_\n",
    "\n",
    "# best estimator from GridSearch: {'alpha': 1.0235310218990263, 'loss': 'squared_loss', 'penalty': 'l2'}\n",
    "sgd_reg = SGDRegressor(max_iter=100000, tol=0.01, average=True, \n",
    "                       alpha= 0.12618568830660204, loss='huber', penalty= 'l2')\n",
    "sgd_reg.fit(Xall_train, y_train)"
   ]
  },
  {
   "cell_type": "code",
   "execution_count": 16,
   "metadata": {
    "hidden": true
   },
   "outputs": [
    {
     "data": {
      "text/html": [
       "<div>\n",
       "<style scoped>\n",
       "    .dataframe tbody tr th:only-of-type {\n",
       "        vertical-align: middle;\n",
       "    }\n",
       "\n",
       "    .dataframe tbody tr th {\n",
       "        vertical-align: top;\n",
       "    }\n",
       "\n",
       "    .dataframe thead th {\n",
       "        text-align: right;\n",
       "    }\n",
       "</style>\n",
       "<table border=\"1\" class=\"dataframe\">\n",
       "  <thead>\n",
       "    <tr style=\"text-align: right;\">\n",
       "      <th></th>\n",
       "      <th>variable</th>\n",
       "      <th>coef</th>\n",
       "      <th>abs_coef</th>\n",
       "    </tr>\n",
       "  </thead>\n",
       "  <tbody>\n",
       "    <tr>\n",
       "      <th>37</th>\n",
       "      <td>Not Engaged</td>\n",
       "      <td>0.058475</td>\n",
       "      <td>0.058475</td>\n",
       "    </tr>\n",
       "    <tr>\n",
       "      <th>68</th>\n",
       "      <td>$150-$299 ($7,800-$15,599)</td>\n",
       "      <td>0.031545</td>\n",
       "      <td>0.031545</td>\n",
       "    </tr>\n",
       "    <tr>\n",
       "      <th>35</th>\n",
       "      <td>Partially engaged</td>\n",
       "      <td>-0.024823</td>\n",
       "      <td>0.024823</td>\n",
       "    </tr>\n",
       "    <tr>\n",
       "      <th>32</th>\n",
       "      <td>Secondary Education - Years 9 and below</td>\n",
       "      <td>0.020765</td>\n",
       "      <td>0.020765</td>\n",
       "    </tr>\n",
       "    <tr>\n",
       "      <th>15</th>\n",
       "      <td>Southern and Central Asia</td>\n",
       "      <td>0.018575</td>\n",
       "      <td>0.018575</td>\n",
       "    </tr>\n",
       "    <tr>\n",
       "      <th>66</th>\n",
       "      <td>Nil income</td>\n",
       "      <td>0.017530</td>\n",
       "      <td>0.017530</td>\n",
       "    </tr>\n",
       "    <tr>\n",
       "      <th>14</th>\n",
       "      <td>North-East Asia</td>\n",
       "      <td>0.015708</td>\n",
       "      <td>0.015708</td>\n",
       "    </tr>\n",
       "    <tr>\n",
       "      <th>87</th>\n",
       "      <td>Separated</td>\n",
       "      <td>0.015572</td>\n",
       "      <td>0.015572</td>\n",
       "    </tr>\n",
       "    <tr>\n",
       "      <th>60</th>\n",
       "      <td>Community and Personal Service Workers</td>\n",
       "      <td>0.015122</td>\n",
       "      <td>0.015122</td>\n",
       "    </tr>\n",
       "    <tr>\n",
       "      <th>5</th>\n",
       "      <td>50 km to less than 250 km</td>\n",
       "      <td>-0.015110</td>\n",
       "      <td>0.015110</td>\n",
       "    </tr>\n",
       "  </tbody>\n",
       "</table>\n",
       "</div>"
      ],
      "text/plain": [
       "                                   variable      coef  abs_coef\n",
       "37                              Not Engaged  0.058475  0.058475\n",
       "68               $150-$299 ($7,800-$15,599)  0.031545  0.031545\n",
       "35                        Partially engaged -0.024823  0.024823\n",
       "32  Secondary Education - Years 9 and below  0.020765  0.020765\n",
       "15                Southern and Central Asia  0.018575  0.018575\n",
       "66                               Nil income  0.017530  0.017530\n",
       "14                          North-East Asia  0.015708  0.015708\n",
       "87                                Separated  0.015572  0.015572\n",
       "60   Community and Personal Service Workers  0.015122  0.015122\n",
       "5                 50 km to less than 250 km -0.015110  0.015110"
      ]
     },
     "execution_count": 16,
     "metadata": {},
     "output_type": "execute_result"
    }
   ],
   "source": [
    "\n",
    "# Create a dataframe of the model coefficients for reference\n",
    "model_coefs = pd.DataFrame({'variable':Xall_train.columns,\n",
    "                            'coef':sgd_reg.coef_,\n",
    "                            'abs_coef':np.abs(sgd_reg.coef_)})\n",
    "\n",
    "model_coefs.sort_values('abs_coef', inplace=True, ascending=False)\n",
    "\n",
    "model_coefs.head(10)"
   ]
  },
  {
   "cell_type": "code",
   "execution_count": 28,
   "metadata": {
    "hidden": true
   },
   "outputs": [
    {
     "data": {
      "text/plain": [
       "Text(0, 0.5, '$\\\\beta$ Coefficient')"
      ]
     },
     "execution_count": 28,
     "metadata": {},
     "output_type": "execute_result"
    },
    {
     "data": {
      "image/png": "[encoded data removed]",
      "text/plain": [
       "<Figure size 864x576 with 1 Axes>"
      ]
     },
     "metadata": {
      "needs_background": "light"
     },
     "output_type": "display_data"
    }
   ],
   "source": [
    "\n",
    "# create a figure of the top 10 features\n",
    "fig = plt.figure(figsize=(12,8))\n",
    "\n",
    "fig = sns.barplot(x='variable', y='coef', data=model_coefs.iloc[:15,:], palette='plasma')\n",
    "\n",
    "for item in fig.get_xticklabels():\n",
    "    item.set_rotation(66)\n",
    "fig.tick_params(labelsize=12)\n",
    "plt.title('Top 10 Contributing Features', fontsize=18)\n",
    "plt.xlabel(\"Feature\", fontsize=12)\n",
    "plt.ylabel(r'$\\beta$ Coefficient', fontsize=15)\n",
    "#plt.savefig('fix_top_ten.png', bbox_inches='tight', pad_inches=0.2);"
   ]
  },
  {
   "cell_type": "code",
   "execution_count": null,
   "metadata": {
    "hidden": true
   },
   "outputs": [],
   "source": [
    "\n",
    "Discussion notes:\n",
    "Test R² value is reasonably high and inline with the training score, this suggests that the model is fitted well, i.e. neithing overfitting nor underfitting.\n",
    "Model is explaining approx. 82% of the total variance in the test dataset."
   ]
  },
  {
   "cell_type": "code",
   "execution_count": 22,
   "metadata": {
    "hidden": true
   },
   "outputs": [
    {
     "name": "stdout",
     "output_type": "stream",
     "text": [
      "Model Test performance statistics:\n",
      "----------------------------------\n",
      "Mean residual error ε:    0.0 ( 1.69 % of the average house price )\n",
      "St Dev residual error ε:  1.0\n",
      "RMSE:                     0.96\n",
      "Explained VAR:            0.525\n"
     ]
    }
   ],
   "source": [
    "# make predictions on the train set\n",
    "train_preds = sgd_reg.predict(Xall_train)\n",
    "# predictions on test data\n",
    "y_hat = sgd_reg.predict(Xall_test)\n",
    "\n",
    "## Calculation of the residuals\n",
    "resid_train = y_train - train_preds\n",
    "resid_test = y_test - y_hat\n",
    "\n",
    "# Create DFs of the residuals with actuals and preds for ease of reference\n",
    "df_resid_train = pd.DataFrame(data={'Actual': y_train, 'Prediction': train_preds, 'Resid': resid_train})\n",
    "df_resid_test = pd.DataFrame(data={'Actual': y_test, 'Prediction': y_hat, 'Resid': resid_test})\n",
    "\n",
    "# print out some performance statistics\n",
    "print(\"Model Test performance statistics:\")\n",
    "print(\"----------------------------------\")\n",
    "print(\"Mean residual error \\u03B5:   \", round(np.mean(resid_test),1),\n",
    "      \"(\", round(np.mean(resid_test) / np.mean(df_clean['Unemployed, looking for full-time work'])*100,2),'% of the average house price )')\n",
    "print(\"St Dev residual error \\u03B5: \", round(np.std(resid_test),1))\n",
    "print(\"RMSE:                    \", round(np.sqrt(mean_squared_error(y_test, y_hat)),2))\n",
    "print(\"Explained VAR:           \", round(explained_variance_score(y_test, y_hat),3))\n",
    "\n",
    "#plt.savefig('fix_resids.png', bbox_inches='tight', pad_inches=0.2);"
   ]
  },
  {
   "cell_type": "code",
   "execution_count": null,
   "metadata": {
    "hidden": true
   },
   "outputs": [],
   "source": [
    "Discussion notes:\n",
    "Error distriubtion is fairly normal for the Train data, and approximating towards normal for Test data. \n",
    "The distributions are indicating some positive skew which is not ideal. Indicative of underlying relationships \n",
    "in the Feature data.\n",
    "Scatter plots do indicate some underlying signal in the residuals, indicating that the underlying Features\n",
    "contain some unfixed noise.\n",
    "\n",
    "two potential sources;\n",
    "remaining (multi)collinearity between feature variables; and\n",
    "a level of heteroscadiscity. This may be a prime source of underlying issues as there does appear to be a\n",
    "bias in the model for higher value properties. >>> This could be resolved by log-transforming the SalesPrice \n",
    "variable to remove any non-linearality.\n",
    "The Train and Test R² values are very similar which suggests little variance in the model performance, and \n",
    "a good fit (no under/over fitting).\n",
    "\n",
    "There does appear to be some bias in the model performance, particularly with higher value properties. This is \n",
    "likely due to an underlying non-linear relationship present in the SalesPrice - transforming this could improve \n",
    "overall performance.\n",
    "The Explained Variance of the test model is similar to the R² value, which indicates that the underlying skew in\n",
    "the residuals is not severe and a relatively low mean error term.\n",
    "Do I trust this model?\n",
    "Broadly speaking, yes.\n",
    "It appears to work fairly well in predicting property vales with a mean residual error on the test data of around\n",
    "2.5% the mean property value\n",
    "the model variance appears good with minimal difference between Train/Test scores.\n",
    "R² value is decent, indicating that the model is explaining ~82% of the variance.\n",
    "Can the model be improved?\n",
    "Definitely!\n",
    "There is likely a non-linear relationship present between all/some of the Features with the SalePrice.\n",
    "Transformations could resolve this issue.\n",
    "additional multicollineararity likely still persists in the Feature set. A more strigent cut off on the \n",
    "correlations could be considered, or additional checks such as VIF could be employed to further improve the \n",
    "Feature data."
   ]
  }
 ],
 "metadata": {
  "kernelspec": {
   "display_name": "Python 3",
   "language": "python",
   "name": "python3"
  },
  "language_info": {
   "codemirror_mode": {
    "name": "ipython",
    "version": 3
   },
   "file_extension": ".py",
   "mimetype": "text/x-python",
   "name": "python",
   "nbconvert_exporter": "python",
   "pygments_lexer": "ipython3",
   "version": "3.8.5"
  }
 },
 "nbformat": 4,
 "nbformat_minor": 4
}
